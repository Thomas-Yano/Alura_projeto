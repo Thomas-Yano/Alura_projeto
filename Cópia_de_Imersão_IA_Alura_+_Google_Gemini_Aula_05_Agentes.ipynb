{
  "nbformat": 4,
  "nbformat_minor": 0,
  "metadata": {
    "colab": {
      "provenance": []
    },
    "kernelspec": {
      "name": "python3",
      "display_name": "Python 3"
    },
    "language_info": {
      "name": "python"
    }
  },
  "cells": [
    {
      "cell_type": "code",
      "source": [
        "%pip -q install google-genai"
      ],
      "metadata": {
        "id": "UCCbECexLk_h"
      },
      "execution_count": 1,
      "outputs": []
    },
    {
      "cell_type": "code",
      "source": [
        "# Configura a API Key do Google Gemini\n",
        "\n",
        "import os\n",
        "from google.colab import userdata\n",
        "\n",
        "os.environ[\"GOOGLE_API_KEY\"] = userdata.get('GOOGLE_API_KEY')"
      ],
      "metadata": {
        "id": "NfCqHo1tLk8P"
      },
      "execution_count": 2,
      "outputs": []
    },
    {
      "cell_type": "code",
      "source": [
        "# Configura o cliente da SDK do Gemini\n",
        "\n",
        "from google import genai\n",
        "\n",
        "client = genai.Client()\n",
        "\n",
        "MODEL_ID = \"gemini-2.0-flash\""
      ],
      "metadata": {
        "id": "bV4w0H5TLk5g"
      },
      "execution_count": 3,
      "outputs": []
    },
    {
      "cell_type": "code",
      "source": [
        "# Pergunta ao Gemini uma informação mais recente que seu conhecimento\n",
        "\n",
        "from IPython.display import HTML, Markdown"
      ],
      "metadata": {
        "id": "HwVP7Xi34Zuw"
      },
      "execution_count": 4,
      "outputs": []
    },
    {
      "cell_type": "code",
      "source": [
        "# Instalar Framework ADK de agentes do Google ################################################\n",
        "!pip install -q google-adk"
      ],
      "metadata": {
        "id": "hvZ3UnPI4jhJ",
        "colab": {
          "base_uri": "https://localhost:8080/"
        },
        "outputId": "1e720323-fa45-4d3d-df39-67e08deec488"
      },
      "execution_count": 5,
      "outputs": [
        {
          "output_type": "stream",
          "name": "stdout",
          "text": [
            "\u001b[?25l   \u001b[90m━━━━━━━━━━━━━━━━━━━━━━━━━━━━━━━━━━━━━━━━\u001b[0m \u001b[32m0.0/1.2 MB\u001b[0m \u001b[31m?\u001b[0m eta \u001b[36m-:--:--\u001b[0m\r\u001b[2K   \u001b[91m━━━━━━━━━━━━━━━━━━━━━━━━━━━━━━━━━━━━━━━\u001b[0m\u001b[91m╸\u001b[0m \u001b[32m1.2/1.2 MB\u001b[0m \u001b[31m45.1 MB/s\u001b[0m eta \u001b[36m0:00:01\u001b[0m\r\u001b[2K   \u001b[90m━━━━━━━━━━━━━━━━━━━━━━━━━━━━━━━━━━━━━━━━\u001b[0m \u001b[32m1.2/1.2 MB\u001b[0m \u001b[31m25.2 MB/s\u001b[0m eta \u001b[36m0:00:00\u001b[0m\n",
            "\u001b[2K   \u001b[90m━━━━━━━━━━━━━━━━━━━━━━━━━━━━━━━━━━━━━━━━\u001b[0m \u001b[32m232.1/232.1 kB\u001b[0m \u001b[31m16.4 MB/s\u001b[0m eta \u001b[36m0:00:00\u001b[0m\n",
            "\u001b[2K   \u001b[90m━━━━━━━━━━━━━━━━━━━━━━━━━━━━━━━━━━━━━━━━\u001b[0m \u001b[32m95.2/95.2 kB\u001b[0m \u001b[31m5.3 MB/s\u001b[0m eta \u001b[36m0:00:00\u001b[0m\n",
            "\u001b[2K   \u001b[90m━━━━━━━━━━━━━━━━━━━━━━━━━━━━━━━━━━━━━━━━\u001b[0m \u001b[32m217.1/217.1 kB\u001b[0m \u001b[31m15.8 MB/s\u001b[0m eta \u001b[36m0:00:00\u001b[0m\n",
            "\u001b[2K   \u001b[90m━━━━━━━━━━━━━━━━━━━━━━━━━━━━━━━━━━━━━━━━\u001b[0m \u001b[32m334.1/334.1 kB\u001b[0m \u001b[31m18.0 MB/s\u001b[0m eta \u001b[36m0:00:00\u001b[0m\n",
            "\u001b[2K   \u001b[90m━━━━━━━━━━━━━━━━━━━━━━━━━━━━━━━━━━━━━━━━\u001b[0m \u001b[32m125.1/125.1 kB\u001b[0m \u001b[31m6.5 MB/s\u001b[0m eta \u001b[36m0:00:00\u001b[0m\n",
            "\u001b[2K   \u001b[90m━━━━━━━━━━━━━━━━━━━━━━━━━━━━━━━━━━━━━━━━\u001b[0m \u001b[32m65.8/65.8 kB\u001b[0m \u001b[31m4.9 MB/s\u001b[0m eta \u001b[36m0:00:00\u001b[0m\n",
            "\u001b[2K   \u001b[90m━━━━━━━━━━━━━━━━━━━━━━━━━━━━━━━━━━━━━━━━\u001b[0m \u001b[32m119.0/119.0 kB\u001b[0m \u001b[31m7.3 MB/s\u001b[0m eta \u001b[36m0:00:00\u001b[0m\n",
            "\u001b[2K   \u001b[90m━━━━━━━━━━━━━━━━━━━━━━━━━━━━━━━━━━━━━━━━\u001b[0m \u001b[32m194.9/194.9 kB\u001b[0m \u001b[31m13.0 MB/s\u001b[0m eta \u001b[36m0:00:00\u001b[0m\n",
            "\u001b[2K   \u001b[90m━━━━━━━━━━━━━━━━━━━━━━━━━━━━━━━━━━━━━━━━\u001b[0m \u001b[32m62.5/62.5 kB\u001b[0m \u001b[31m4.8 MB/s\u001b[0m eta \u001b[36m0:00:00\u001b[0m\n",
            "\u001b[2K   \u001b[90m━━━━━━━━━━━━━━━━━━━━━━━━━━━━━━━━━━━━━━━━\u001b[0m \u001b[32m103.3/103.3 kB\u001b[0m \u001b[31m6.0 MB/s\u001b[0m eta \u001b[36m0:00:00\u001b[0m\n",
            "\u001b[2K   \u001b[90m━━━━━━━━━━━━━━━━━━━━━━━━━━━━━━━━━━━━━━━━\u001b[0m \u001b[32m44.4/44.4 kB\u001b[0m \u001b[31m1.9 MB/s\u001b[0m eta \u001b[36m0:00:00\u001b[0m\n",
            "\u001b[2K   \u001b[90m━━━━━━━━━━━━━━━━━━━━━━━━━━━━━━━━━━━━━━━━\u001b[0m \u001b[32m72.0/72.0 kB\u001b[0m \u001b[31m2.9 MB/s\u001b[0m eta \u001b[36m0:00:00\u001b[0m\n",
            "\u001b[?25h"
          ]
        }
      ]
    },
    {
      "cell_type": "code",
      "execution_count": 6,
      "metadata": {
        "id": "aePV2bdfDeoW"
      },
      "outputs": [],
      "source": [
        "from google.adk.agents import Agent\n",
        "from google.adk.runners import Runner\n",
        "from google.adk.sessions import InMemorySessionService\n",
        "from google.adk.tools import google_search\n",
        "from google.genai import types  # Para criar conteúdos (Content e Part)\n",
        "from datetime import date\n",
        "import textwrap # Para formatar melhor a saída de texto\n",
        "from IPython.display import display, Markdown # Para exibir texto formatado no Colab\n",
        "import requests # Para fazer requisições HTTP\n",
        "import warnings\n",
        "\n",
        "warnings.filterwarnings(\"ignore\")"
      ]
    },
    {
      "cell_type": "code",
      "source": [
        "# Função auxiliar que envia uma mensagem para um agente via Runner e retorna a resposta final\n",
        "def call_agent(agent: Agent, message_text: str) -> str:\n",
        "    # Cria um serviço de sessão em memória\n",
        "    session_service = InMemorySessionService()\n",
        "    # Cria uma nova sessão (você pode personalizar os IDs conforme necessário)\n",
        "    session = session_service.create_session(app_name=agent.name, user_id=\"user1\", session_id=\"session1\")\n",
        "    # Cria um Runner para o agente\n",
        "    runner = Runner(agent=agent, app_name=agent.name, session_service=session_service)\n",
        "    # Cria o conteúdo da mensagem de entrada\n",
        "    content = types.Content(role=\"user\", parts=[types.Part(text=message_text)])\n",
        "\n",
        "    final_response = \"\"\n",
        "    # Itera assincronamente pelos eventos retornados durante a execução do agente\n",
        "    for event in runner.run(user_id=\"user1\", session_id=\"session1\", new_message=content):\n",
        "        if event.is_final_response():\n",
        "          for part in event.content.parts:\n",
        "            if part.text is not None:\n",
        "              final_response += part.text\n",
        "              final_response += \"\\n\"\n",
        "    return final_response"
      ],
      "metadata": {
        "id": "_xP4lWhsS5ko"
      },
      "execution_count": 7,
      "outputs": []
    },
    {
      "cell_type": "code",
      "source": [
        "# Função auxiliar para exibir texto formatado em Markdown no Colab\n",
        "def to_markdown(text):\n",
        "  text = text.replace('•', '  *')\n",
        "  return Markdown(textwrap.indent(text, '> ', predicate=lambda _: True))"
      ],
      "metadata": {
        "id": "8dosiodaxfFR"
      },
      "execution_count": 8,
      "outputs": []
    },
    {
      "cell_type": "code",
      "source": [
        "##########################################\n",
        "# --- Agente 1: Buscador de Notícias --- #\n",
        "##########################################\n",
        "def agente_buscador(topico, data_de_hoje):\n",
        "    buscador = Agent(\n",
        "        name=\"agente_buscador\",\n",
        "        model=\"gemini-2.0-flash\",\n",
        "        description=\"Agente que busca informação geral e detalhada no google sobre um tópico.\",\n",
        "        tools=[google_search],\n",
        "        instruction=\"\"\"\n",
        "       Função: Agente especializado em buscar e coletar dados e informações\n",
        "       relevantes em (Google Search).\n",
        "       Fornecer pesquisa detalhadas e relevantes para o planejamento e organização de conteúdo.\n",
        "       Oferecer apenas as pesquisas mais relevantes.\n",
        "       **Instruções de Busca Específicas:**\n",
        "       1. **Foco Principal:** Busque por **informações aprofundadas, dados, fatos, tendências, contextos e detalhes** sobre o tópico fornecido. O objetivo é obter um entendimento completo e factual do assunto.\n",
        "       2. **Conteúdo a Excluir Ativamente:**\n",
        "          - Cursos online, treinamentos, webinars, plataformas de ensino à distância, materiais de curso.\n",
        "       3. **Recomendações (Livros, etc.):** Se encontrar recomendações relevantes (como livros) que **complementam ou ilustram a informação geral** sobre o tópico, pode incluí-las. No entanto, o foco **não** é criar uma lista de recomendações, mas sim usar essas recomendações como exemplos ou fontes dentro de um contexto informativo mais amplo.\n",
        "\n",
        "       Identificar e extrair informações chave, dados, tendências e exemplos **que expliquem e detalhem o tópico**.\n",
        "       Summarizar os achados de forma clara e concisa, priorizando a apresentação das **informações informativas e factuais** encontradas. Mencione recomendações apenas se forem altamente relevantes para o conteúdo informativo.\n",
        "        \"\"\"\n",
        "    )\n",
        "    entrada_do_agente_buscador = f\"Tópico: {topico}\\nData de hoje: {data_de_hoje}\"\n",
        "    # Executa o agente\n",
        "    resposta_do_agente_buscador = call_agent(buscador, entrada_do_agente_buscador)\n",
        "    return resposta_do_agente_buscador"
      ],
      "metadata": {
        "id": "o8bqIfi_DyH8"
      },
      "execution_count": 9,
      "outputs": []
    },
    {
      "cell_type": "code",
      "source": [
        "################################################\n",
        "# --- Agente 2: Planejador de posts --- #\n",
        "################################################\n",
        "def agente_planejador(topico, lancamentos_buscados):\n",
        "    planejador = Agent(\n",
        "        name=\"agente_planejador\",\n",
        "        model=\"gemini-2.0-flash\",\n",
        "        # Inserir as instruções do Agente Planejador #################################################\n",
        "        instruction=\"\"\"\n",
        "        Função: Agente especializado em estruturar e organizar informações para\n",
        "        criar planos de conteúdo detalhados e acionáveis para a redação final.\n",
        "        Baseado no Tópico e nos dados de Lançamentos buscados, crie um plano\n",
        "        de conteúdo organizado em SEÇÕES ENUMERADAS em Markdown.\n",
        "\n",
        "        Exemplo de formato desejado:\n",
        "        1. Título da Primeira Seção (ex: tema 1)\n",
        "        2. Título da Segunda Seção (ex: tema 2)\n",
        "        3. Título da Terceira Seção (ex: tema 3)\n",
        "        4. Titulo da Quarta Seção (ex: tema 4)\n",
        "\n",
        "        Certifique-se de que cada ponto numerado é um título de seção claro e conciso.\n",
        "        Filtrar os dados recebidos pelo agente_buscador selecionando apenas 4 mais relevantes e importantes\n",
        "        abordar.\n",
        "        NÃO GERAR MAIS DE 4 SEÇÕES.\n",
        "        Selecionar sitações, pesquisas ou fatos interessantes para abordar nos paragrafos.\n",
        "        O plano deve ser uma lista numerada que delineia a estrutura completa do post.\n",
        "        \"\"\",\n",
        "        description=\"Planejador de conteúdo\",\n",
        "    )\n",
        "\n",
        "    entrada_do_agente_planejador = f\"Tópico:{topico}\\nLançamentos buscados: {lancamentos_buscados}\"\n",
        "    # Executa o agente\n",
        "    plano_do_post = call_agent(planejador, entrada_do_agente_planejador)\n",
        "    return plano_do_post"
      ],
      "metadata": {
        "id": "y3VO1uo5_ghO"
      },
      "execution_count": 10,
      "outputs": []
    },
    {
      "cell_type": "code",
      "source": [
        "######################################\n",
        "# --- Agente 3: Redator do Post --- #\n",
        "######################################\n",
        "def agente_redator(topico, plano_de_post):\n",
        "    redator = Agent(\n",
        "        name=\"agente_redator\",\n",
        "        model=\"gemini-2.0-flash\",\n",
        "        instruction=\"\"\"\n",
        "        Você é um redator Criativo especializado em linguagem e gramatica,\n",
        "        com foco em criar redações e resumos tecnicos profissionais.\n",
        "        Você escreve para alunos e profissionais buscando aprimorar seus conhecimentos.\n",
        "        Escrita profissional mas com toque didático.\n",
        "        Utilize o tema fornecido no plano de post e os pontos mais relevantes fornecidos e, com base nisso,\n",
        "        escreva o texto abordando o tema.\n",
        "        Importante ressaltar para deixar pelo menos 1 citação relevante.\n",
        "        O post deve ser engajador, informativo, que prenda a tenção e foco do leitor.\n",
        "        O texto deve seguir um padrão de no máximo 300 palavras.\n",
        "            \"\"\",\n",
        "        description=\"Agente redator de posts engajador\"\n",
        "    )\n",
        "    entrada_do_agente_redator = f\"Tópico: {topico}\\nPlano de post: {plano_de_post}\"\n",
        "    # Executa o agente\n",
        "    rascunho = call_agent(redator, entrada_do_agente_redator)\n",
        "    return rascunho"
      ],
      "metadata": {
        "id": "uOqlg2TRLVh1"
      },
      "execution_count": 11,
      "outputs": []
    },
    {
      "cell_type": "code",
      "source": [
        "##########################################\n",
        "# --- Agente 4: Revisor de Qualidade --- #\n",
        "##########################################\n",
        "def agente_revisor(topico, rascunho_gerado):\n",
        "    revisor = Agent(\n",
        "        name=\"agente_revisor\",\n",
        "        model=\"gemini-2.0-flash\",\n",
        "        instruction=\"\"\"\n",
        "        Você é um revisor Criativo especializado em linguagem e gramatica,\n",
        "        com foco em criar redações e resumos tecnicos.\n",
        "        Você escreve para alunos e profissionais buscando aprimorar seus conhecimentos.\n",
        "        Escrita profissional mas com toque didático. Seja conciso em suas redações.\n",
        "        Revise o rascunho de post abaixo sobre o tópico indicado, verificando\n",
        "        sua escrita, **assegurando que a Forma de Abordagem e o Propósito originais sejam mantidos**.\n",
        "        Não desejo que seja exigente e nem faça muitas correções\n",
        "        Apenas exija mudança se for realmente importante e necessário para\n",
        "        melhoria do material original.\n",
        "        Se o rascunho estiver bom, responda apenas 'O rascunho está pronto!'.\n",
        "        O texto deve seguir um padrão de no máximo 300 palavras.\n",
        "        NÃO FAZER CORREÇÃO após 2 tentativas.\n",
        "        \"\"\",\n",
        "        description=\"Agente revisor de post.\"\n",
        "    )\n",
        "    entrada_do_agente_revisor = f\"Tópico: {topico}\\nRascunho: {rascunho_gerado}\"\n",
        "    # Executa o agente\n",
        "    texto_revisado = call_agent(revisor, entrada_do_agente_revisor)\n",
        "    return texto_revisado"
      ],
      "metadata": {
        "id": "_aTb1SdkLeT6"
      },
      "execution_count": 14,
      "outputs": []
    },
    {
      "source": [
        "from datetime import date\n",
        "import re\n",
        "from IPython.display import display, Markdown\n",
        "from google.adk.agents import Agent  # Import Agent\n",
        "from google.adk.runners import Runner # Import Runner\n",
        "from google.adk.sessions import InMemorySessionService # Import InMemorySessionService\n",
        "from google.adk.tools import google_search # Import google_search\n",
        "from google.genai import types  # Para criar conteúdos (Content e Part) # Import types\n",
        "import textwrap\n",
        "import os\n",
        "from google.colab import userdata\n",
        "\n",
        "# Configura a API Key do Google Gemini\n",
        "os.environ[\"GOOGLE_API_KEY\"] = userdata.get('GOOGLE_API_KEY')\n",
        "\n",
        "from google import genai\n",
        "\n",
        "client = genai.Client()\n",
        "\n",
        "MODEL_ID = \"gemini-2.0-flash\"\n",
        "\n",
        "def extract_content_from_part(part):\n",
        "    \"\"\"Extracts text content from a GenAI Part.\"\"\"\n",
        "    if part.text:\n",
        "        return part.text\n",
        "    return \"\"\n",
        "\n",
        "def call_agent(agent: Agent, message_text: str) -> str:\n",
        "    \"\"\"Calls an agent with a message and returns the final response.\"\"\"\n",
        "    session_service = InMemorySessionService()\n",
        "    session = session_service.create_session(app_name=agent.name, user_id=\"user1\", session_id=\"session1\")\n",
        "    runner = Runner(agent=agent, app_name=agent.name, session_service=session_service)\n",
        "    content = types.Content(role=\"user\", parts=[types.Part(text=message_text)])\n",
        "\n",
        "    final_response = \"\"\n",
        "    try:\n",
        "        for event in runner.run(user_id=\"user1\", session_id=\"session1\", new_message=content):\n",
        "            if event.is_final_response():\n",
        "              for part in event.content.parts:\n",
        "                final_response += extract_content_from_part(part)\n",
        "                final_response += \"\\n\"\n",
        "    except Exception as e:\n",
        "        print(f\"Error during agent run: {e}\")\n",
        "        # Retornar uma mensagem de erro ou rascunho parcial em caso de falha\n",
        "        return f\"Erro ao chamar o agente {agent.name}: {e}\"\n",
        "    return final_response\n",
        "\n",
        "def to_markdown(text):\n",
        "  text = text.replace('•', '  *')\n",
        "  return Markdown(textwrap.indent(text, '> ', predicate=lambda _: True))\n",
        "\n",
        "def extrair_secoes_do_plano(texto_plano: str) -> list[str]:\n",
        "    secoes = []\n",
        "    # Padrões mais robustos para extrair títulos de seção\n",
        "    padroes_secao = [\n",
        "        r'^\\s*##\\s*(.+)',  # Títulos em Markdown ##\n",
        "        r'^\\s*\\d+\\.\\s*(.+)', # Listas numeradas 1.\n",
        "        r'^\\s*-\\s*(.+)'    # Listas com traço -\n",
        "    ]\n",
        "    linhas = texto_plano.splitlines()\n",
        "    for linha in linhas:\n",
        "        for padrao in padroes_secao:\n",
        "            match = re.match(padrao, linha.strip())\n",
        "            if match:\n",
        "                secao_titulo = match.group(1).strip()\n",
        "                # Adicionar uma verificação para evitar seções vazias ou muito curtas\n",
        "                if secao_titulo and len(secao_titulo) > 3:\n",
        "                    secoes.append(secao_titulo)\n",
        "                break # Parar após encontrar o primeiro padrão correspondente na linha\n",
        "    # Adicionar uma seção padrão se nenhuma for encontrada, mas houver algum texto\n",
        "    if not secoes and texto_plano.strip():\n",
        "         print(\"Aviso: Nenhuma seção clara encontrada no plano. Usando 'Conteúdo Principal'.\")\n",
        "         return [\"Conteúdo Principal\"]\n",
        "    elif not secoes and not texto_plano.strip():\n",
        "        print(\"Aviso: O plano de conteúdo está vazio.\")\n",
        "        return []\n",
        "    return secoes\n",
        "\n",
        "\n",
        "# --- Definição dos Agentes ---\n",
        "buscador_agent_obj = Agent(\n",
        "    name=\"agente_buscador\",\n",
        "    model=\"gemini-2.0-flash\",\n",
        "    description=\"Agente que busca informação geral e detalhada no google sobre um tópico.\",\n",
        "    tools=[google_search],\n",
        "    instruction=\"\"\"\n",
        "   Função: Agente especializado em buscar e coletar dados e informações\n",
        "   relevantes em (Google Search).\n",
        "   Fornecer pesquisa detalhadas e relevantes para o planejamento e organização de conteúdo.\n",
        "   Oferecer apenas as pesquisas mais relevantes.\n",
        "   **Instruções de Busca Específicas:**\n",
        "   1. **Foco Principal:** Busque por **informações aprofundadas, dados, fatos, tendências, contextos e detalhes** sobre o tópico fornecido, **considerando o foco e propósito especificados pelo usuário**. O objetivo é obter um entendimento completo e factual do assunto, **alinhado com a forma de abordagem desejada**.\n",
        "   2. **Conteúdo a Excluir Ativamente:**\n",
        "      - Cursos online, treinamentos, webinars, plataformas de ensino à distância, materiais de curso.\n",
        "   3. **Recomendações (Livros, etc.):** Se encontrar recomendações relevantes (como livros) que **complementam ou ilustram a informação geral** sobre o tópico, pode incluí-las. No entanto, o foco **não** é criar uma lista de recomendações, mas sim usar essas recomendações como exemplos ou fontes dentro de um contexto informativo mais amplo.\n",
        "\n",
        "   Identificar e extrair informações chave, dados, tendências e exemplos **que expliquem e detalhem o tópico**, **seguindo a forma de abordagem e o propósito definidos pelo usuário**.\n",
        "   Summarizar os achados de forma clara e concisa, priorizando a apresentação das **informações informativas e factuais** encontradas. Mencione recomendações apenas se forem altamente relevantes para o conteúdo informativo.\n",
        "    \"\"\"\n",
        ")\n",
        "\n",
        "planejador_agent_obj = Agent(\n",
        "    name=\"agente_planejador\",\n",
        "    model=\"gemini-2.0-flash\",\n",
        "    instruction=\"\"\"\n",
        "    Função: Agente especializado em estruturar e organizar informações para\n",
        "    criar planos de conteúdo detalhados e acionáveis para a redação final.\n",
        "    Baseado no Tópico, Forma de Abordagem, Propósito e nos dados de Lançamentos buscados, crie um plano\n",
        "    de conteúdo organizado em SEÇÕES ENUMERADAS em Markdown.\n",
        "\n",
        "    Exemplo de formato desejado:\n",
        "    1. Título da Primeira Seção (ex: tema 1)\n",
        "    2. Título da Segunda Seção (ex: tema 2)\n",
        "    3. Título da Terceira Seção (ex: tema 3)\n",
        "    4. Titulo da Quarta Seção (ex: tema 4)\n",
        "\n",
        "    Certifique-se de que cada ponto numerado é um título de seção claro e conciso.\n",
        "    Filtrar os dados recebidos pelo agente_buscador selecionando apenas 4 mais relevantes e importantes\n",
        "    abordar, **considerando a Forma de Abordagem e o Propósito especificados**.\n",
        "    NÃO GERAR MAIS DE 4 SEÇÕES.\n",
        "    Selecionar sitações, pesquisas ou fatos interessantes para abordar nos paragrafos, **alinhados com a Forma de Abordagem e Propósito**.\n",
        "    O plano deve ser uma lista numerada que delineia a estrutura completa do post.\n",
        "    \"\"\",\n",
        "    description=\"Planejador de conteúdo\",\n",
        ")\n",
        "\n",
        "redator_agent_obj = Agent(\n",
        "    name=\"agente_redator\",\n",
        "    model=\"gemini-2.0-flash\",\n",
        "    instruction=\"\"\"\n",
        "        Você é um redator Criativo especializado em linguagem e gramatica,\n",
        "        com foco em criar redações e resumos tecnicos profissionais.\n",
        "        Você escreve para alunos e profissionais buscando aprimorar seus conhecimentos.\n",
        "        Escrita profissional mas com toque didático.\n",
        "        Utilize o tema fornecido no plano de post e os pontos mais relevantes fornecidos e, com base nisso,\n",
        "        escreva o texto abordando o tema, **mantendo a Forma de Abordagem e o Propósito originais**.\n",
        "        Importante ressaltar para deixar pelo menos 1 citação relevante.\n",
        "        O post deve ser engajador, informativo, que prenda a tenção e foco do leitor.\n",
        "        O texto deve seguir um padrão de no máximo 300 palavras.\n",
        "\n",
        "        \"\"\",\n",
        "    description=\"Agente redator de posts engajador\"\n",
        ")\n",
        "\n",
        "revisor_agent_obj = Agent(\n",
        "    name=\"agente_revisor\",\n",
        "    model=\"gemini-2.0-flash\",\n",
        "    instruction=\"\"\"\n",
        "        Você é um revisor Criativo especializado em linguagem e gramatica,\n",
        "        com foco em criar redações e resumos tecnicos.\n",
        "        Você escreve para alunos e profissionais buscando aprimorar seus conhecimentos.\n",
        "        Escrita profissional mas com toque didático. Seja conciso em suas redações.\n",
        "        Revise o rascunho de post abaixo sobre o tópico indicado, verificando\n",
        "        sua escrita, **assegurando que a Forma de Abordagem e o Propósito originais sejam mantidos**.\n",
        "        Não desejo que seja exigente e nem faça muitas correções\n",
        "        Apenas exija mudança se for realmente importante e necessário para\n",
        "        melhoria do material original.\n",
        "        Se o rascunho estiver bom, responda apenas 'O rascunho está ótimo e pronto!'.\n",
        "        O texto deve seguir um padrão de no máximo 300 palavras.\n",
        "        NÃO FAZER CORREÇÃO após 2 tentativas.\n",
        "        \"\"\",\n",
        "    description=\"Agente revisor de post.\"\n",
        ")\n",
        "\n",
        "\n",
        "# --- Lógica Principal de Orquestração do Chatbot ---\n",
        "\n",
        "## 🚀 Iniciando o Sistema de Planejamento e Geração de Conteúdo 🚀\n",
        "\n",
        "data_de_hoje = date.today().strftime(\"%d/%m/%Y\")\n",
        "\n",
        "### ❓ Obtendo o Tópico e Preferências do Usuário\n",
        "\n",
        "print(\"## 📚 Inicie o Planejamento do seu Conteúdo! 📚\")\n",
        "\n",
        "print(\"\\nPor favor, digite o TÓPICO principal sobre o qual você quer estudar/criar conteúdo:\")\n",
        "topico = input(\"Tópico: \")\n",
        "\n",
        "if not topico:\n",
        "  print(\"❌ Nenhum tópico inserido. Por favor, insira um tópico válido para continuar.\")\n",
        "else:\n",
        "  print(f\"\\n✅ Tópico recebido: {topico}.\")\n",
        "\n",
        "  print(\"\\nCom qual FORMA DE ABORDAGEM você deseja que o tema seja tratado? (Ex: Técnica, Didática, Histórica, Comparativa, etc.)\")\n",
        "  forma_abordagem = input(\"Forma de Abordagem: \")\n",
        "\n",
        "  print(\"\\nQual o PROPÓSITO principal deste conteúdo? (Ex: Explicar um conceito, Comparar tecnologias, Apresentar tendências, Guia prático, etc.)\")\n",
        "  proposito_conteudo = input(\"Propósito do Conteúdo: \")\n",
        "\n",
        "  print(f\"\\n✅ Preferências capturadas:\")\n",
        "  print(f\"- Tópico: {topico}\")\n",
        "  print(f\"- Forma de Abordagem: {forma_abordagem if forma_abordagem else 'Não especificada'}\")\n",
        "  print(f\"- Propósito: {proposito_conteudo if proposito_conteudo else 'Não especificado'}\")\n",
        "\n",
        "  print(\"\\nIniciando o processo de busca e planejamento...\")\n",
        "\n",
        "  ## 🔍 Etapa 1: Buscando Informações Relevantes (Agente Buscador)\n",
        "\n",
        "  print(\"\\n--- Executando Agente Buscador ---\")\n",
        "  # Chama o agente buscador para coletar dados sobre o tópico\n",
        "  # Inclua as preferências do usuário na entrada do agente buscador\n",
        "  entrada_do_agente_buscador = f\"\"\"\n",
        "  Tópico: {topico}\n",
        "  Data de hoje: {data_de_hoje}\n",
        "  Forma de Abordagem Desejada: {forma_abordagem if forma_abordagem else 'Não especificada'}\n",
        "  Propósito do Conteúdo: {proposito_conteudo if proposito_conteudo else 'Não especificado'}\n",
        "  \"\"\"\n",
        "  lançamentos_buscados = call_agent(buscador_agent_obj, entrada_do_agente_buscador)\n",
        "\n",
        "  print(\"\\n### Resultado da Busca:\")\n",
        "  # Exibe os resultados da busca formatados em Markdown\n",
        "  display(to_markdown(lançamentos_buscados))\n",
        "  print(\"-------------------------------\")\n",
        "\n",
        "  ## 📝 Etapa 2: Planejando a Estrutura do Conteúdo (Agente Planejador)\n",
        "\n",
        "  print(\"\\n--- Executando Agente Planejador ---\")\n",
        "  # Chama o agente planejador para criar um plano de conteúdo baseado na busca\n",
        "  # Inclua as preferências do usuário na entrada do agente planejador\n",
        "  entrada_do_agente_planejador = f\"\"\"\n",
        "  Tópico: {topico}\n",
        "  Forma de Abordagem Desejada: {forma_abordagem if forma_abordagem else 'Não especificada'}\n",
        "  Propósito do Conteúdo: {proposito_conteudo if proposito_conteudo else 'Não especificado'}\n",
        "  Lançamentos buscados: {lançamentos_buscados}\n",
        "  \"\"\"\n",
        "  plano_de_post = call_agent(planejador_agent_obj, entrada_do_agente_planejador)\n",
        "\n",
        "  print(\"\\n### Plano de Conteúdo Gerado:\")\n",
        "  # Exibe o plano de conteúdo formatado em Markdown\n",
        "  display(to_markdown(plano_de_post))\n",
        "  print(\"-------------------------------\")\n",
        "\n",
        "  ## ✍️ Etapa 3: Gerando e Revisando Conteúdo por Seção (Agente Redator & Revisor)\n",
        "\n",
        "  print(\"\\n--- Iniciando Geração e Revisão do Rascunho (por Seção) ---\")\n",
        "\n",
        "  # Extrai as seções do plano de conteúdo para processamento individual\n",
        "  secoes_do_plano = extrair_secoes_do_plano(plano_de_post)\n",
        "\n",
        "  # Crie uma lista para armazenar os rascunhos de cada seção\n",
        "  rascunhos_individuais_secoes = []\n",
        "\n",
        "  if not secoes_do_plano:\n",
        "      print(\"⚠️ Aviso: Não foi possível extrair seções do plano. Não será possível gerar o rascunho por seção.\")\n",
        "      rascunho_do_post = \"\" # Define rascunho_do_post como vazio se não houver seções\n",
        "  else:\n",
        "      rascunho_do_post_partes = [] # Lista para armazenar as partes do rascunho por seção\n",
        "      MAX_TENTATIVAS_REVISAO = 3 # Limite para o ciclo de revisão por seção\n",
        "\n",
        "      # Loop sobre cada seção do plano\n",
        "      for i, secao in enumerate(secoes_do_plano):\n",
        "          print(f\"\\n--- Processando Seção {i+1}/{len(secoes_do_plano)}: '{secao}' ---\")\n",
        "\n",
        "          ### ✏️ Gerando Rascunho Inicial da Seção\n",
        "\n",
        "          # Inclua as preferências do usuário na entrada para o redator\n",
        "          entrada_para_redator_secao = f\"\"\"\n",
        "          Tópico Geral: {topico}\n",
        "          Forma de Abordagem Desejada: {forma_abordagem if forma_abordagem else 'Não especificada'}\n",
        "          Propósito do Conteúdo: {proposito_conteudo if proposito_conteudo else 'Não especificado'}\n",
        "\n",
        "          Plano de Conteúdo Completo:\n",
        "          {plano_de_post}\n",
        "\n",
        "          ---\n",
        "          POR FAVOR, ESCREVA APENAS O CONTEÚDO DA SEÇÃO ESPECÍFICA ABAIXO.\n",
        "          Não inclua o título da seção no início da sua resposta.\n",
        "          Seção a escrever: {secao}\n",
        "\n",
        "          Instruções Adicionais para esta Seção:\n",
        "          (Se houver instruções específicas para esta seção do plano, adicione aqui)\n",
        "          \"\"\"\n",
        "          rascunho_da_secao = call_agent(redator_agent_obj, entrada_para_redator_secao)\n",
        "          print(\"\\n#### Rascunho Inicial:\")\n",
        "          display(to_markdown(rascunho_da_secao))\n",
        "          print(\"-------------------------------\")\n",
        "\n",
        "          ### 👀 Ciclo de Revisão da Seção\n",
        "\n",
        "          revisao_finalizada = False\n",
        "          tentativas_revisao = 0\n",
        "\n",
        "          # Loop de revisão até aprovação ou limite de tentativas\n",
        "          while not revisao_finalizada and tentativas_revisao < MAX_TENTATIVAS_REVISAO:\n",
        "              tentativas_revisao += 1\n",
        "              print(f\"\\n--- Revisando Seção (Tentativa {tentativas_revisao}/{MAX_TENTATIVAS_REVISAO}) ---\")\n",
        "              # --- Adicionados logs de depuração ---\n",
        "              print(f\"Estado inicial da revisão: revisao_finalizada={revisao_finalizada}, tentativas_revisao={tentativas_revisao}\")\n",
        "              # --- Fim dos logs de depuração ---\n",
        "\n",
        "\n",
        "              entrada_para_revisor_secao = f\"\"\"\n",
        "              Tópico Geral: {topico}\n",
        "              Forma de Abordagem Desejada: {forma_abordagem if forma_abordagem else 'Não especificada'}\n",
        "              Propósito do Conteúdo: {proposito_conteudo if proposito_conteudo else 'Não especificado'}\n",
        "              Plano de Conteúdo Relevante para esta Seção: {plano_de_post}\n",
        "\n",
        "              ---\n",
        "              Rascunho da Seção \"{secao}\" para Revisão:\n",
        "              {rascunho_da_secao}\n",
        "\n",
        "              Por favor, revise o rascunho da seção acima. Se estiver bom, responda APENAS a frase exata 'O rascunho está ótimo e pronto!'. Caso contrário, aponte os problemas e sugira melhorias específicas para que o redator possa corrigir. Certifique-se de que a revisão leva em conta a Forma de Abordagem e o Propósito originais.\n",
        "              \"\"\"\n",
        "\n",
        "              feedback_revisor = call_agent(revisor_agent_obj, entrada_para_revisor_secao)\n",
        "              print(\"\\n#### Feedback do Revisor:\")\n",
        "              display(to_markdown(feedback_revisor))\n",
        "              print(\"-------------------------------\")\n",
        "\n",
        "              # --- Adicionados logs de depuração ---\n",
        "              print(f\"Feedback bruto do revisor: '{feedback_revisor}'\")\n",
        "              print(f\"Feedback processado (minusculo/sem espaços): '{feedback_revisor.strip().lower()}'\")\n",
        "              # --- Fim dos logs de depuração ---\n",
        "\n",
        "              if feedback_revisor.strip().lower() == 'o rascunho está ótimo e pronto!':\n",
        "                  print(f\"👍 Seção '{secao}' aprovada pelo Revisor!\")\n",
        "                  revisao_finalizada = True\n",
        "                  # --- Adicionados logs de depuração ---\n",
        "                  print(f\"Valor de revisao_finalizada após aprovação: {revisao_finalizada}\")\n",
        "                  # --- Fim dos logs de depuração ---\n",
        "              else:\n",
        "                  print(f\"🔄 Seção '{secao}' precisa de correções. Enviando feedback para o Redator.\")\n",
        "                  entrada_para_redator_correcao = f\"\"\"\n",
        "                  Tópico Geral: {topico}\n",
        "                  Forma de Abordagem Desejada: {forma_abordagem if forma_abordagem else 'Não especificada'}\n",
        "                  Propósito do Conteúdo: {proposito_conteudo if proposito_conteudo else 'Não especificado'}\n",
        "                  Plano de Conteúdo Completo:\n",
        "                  {plano_de_post}\n",
        "                  ---\n",
        "                  POR FAVOR, REESCREVA/CORRIJA APENAS O CONTEÚDO DA SEÇÃO ESPECÍFICA ABAIXO, BASEADO NO FEEDBACK.\n",
        "                  Não inclua o título da seção no início da sua resposta.\n",
        "                  Seção a corrigir: {secao}\n",
        "                  Rascunho Anterior Desta Seção:\n",
        "                  {rascunho_da_secao}\n",
        "                  ---\n",
        "                  Feedback do Revisor para Correção:\n",
        "                  {feedback_revisor}\n",
        "                  Por favor, incorpore as sugestões de correção do revisor no novo rascunho desta seção, garantindo que a Forma de Abordagem e o Propósito sejam mantidos.\n",
        "                  \"\"\"\n",
        "                  rascunho_da_secao = call_agent(redator_agent_obj, entrada_para_redator_correcao)\n",
        "                  print(\"\\n#### Rascunho Corrigido:\")\n",
        "                  display(to_markdown(rascunho_da_secao))\n",
        "                  print(\"-------------------------------\")\n",
        "\n",
        "              # --- Adicionados logs de depuração ---\n",
        "              print(f\"Fim da Tentativa {tentativas_revisao}. Condição do loop: {not revisao_finalizada and tentativas_revisao < MAX_TENTATIVAS_REVISAO}\")\n",
        "              # --- Fim dos logs de depuração ---\n",
        "\n",
        "\n",
        "          if not revisao_finalizada:\n",
        "              print(f\"⚠️ Aviso: A Seção '{secao}' não foi aprovada após {MAX_TENTATIVAS_REVISAO} tentativas. Usando a última versão gerada.\")\n",
        "\n",
        "          # rascunhos_individuais_secoes.append(f\"## {secao}\\n\\n{rascunho_da_secao}\") # Remova esta linha\n",
        "          rascunho_do_post_partes.append(rascunho_da_secao) # Adiciona apenas o conteúdo do rascunho\n",
        "\n",
        "      # Reconstroi o rascunho final adicionando os títulos de seção antes de cada parte do conteúdo\n",
        "      rascunho_do_post_final_formatado = []\n",
        "      for i, secao in enumerate(secoes_do_plano):\n",
        "          # Adiciona o título da seção e o conteúdo correspondente\n",
        "          rascunho_do_post_final_formatado.append(f\"## {secao}\\n\\n{rascunho_do_post_partes[i]}\")\n",
        "\n",
        "      rascunho_do_post = \"\\n\\n\".join(rascunho_do_post_final_formatado)\n",
        "\n",
        "\n",
        "      print(\"\\n--- Geração e Revisão por Seção Concluídas ---\")\n",
        "      print(\"\\n## 🎉 Rascunho Completo Gerado (Após Revisão por Seção) 🎉\")\n",
        "      display(to_markdown(rascunho_do_post))\n",
        "      print(\"-------------------------------\")\n",
        "\n",
        "\n",
        "  print(\"\\nO sistema concluiu o processo de planejamento e geração de conteúdo.\")"
      ],
      "cell_type": "code",
      "metadata": {
        "id": "kPPynguqS7yy",
        "outputId": "7c64d924-9677-4ce5-9dce-c01e84e62d23",
        "colab": {
          "base_uri": "https://localhost:8080/",
          "height": 1000
        }
      },
      "execution_count": 17,
      "outputs": [
        {
          "output_type": "stream",
          "name": "stdout",
          "text": [
            "## 📚 Inicie o Planejamento do seu Conteúdo! 📚\n",
            "\n",
            "Por favor, digite o TÓPICO principal sobre o qual você quer estudar/criar conteúdo:\n",
            "Tópico: Inteligencia artificial\n",
            "\n",
            "✅ Tópico recebido: Inteligencia artificial.\n",
            "\n",
            "Com qual FORMA DE ABORDAGEM você deseja que o tema seja tratado? (Ex: Técnica, Didática, Histórica, Comparativa, etc.)\n",
            "Forma de Abordagem: didática\n",
            "\n",
            "Qual o PROPÓSITO principal deste conteúdo? (Ex: Explicar um conceito, Comparar tecnologias, Apresentar tendências, Guia prático, etc.)\n",
            "Propósito do Conteúdo: apresentar tendencias\n",
            "\n",
            "✅ Preferências capturadas:\n",
            "- Tópico: Inteligencia artificial\n",
            "- Forma de Abordagem: didática\n",
            "- Propósito: apresentar tendencias\n",
            "\n",
            "Iniciando o processo de busca e planejamento...\n",
            "\n",
            "--- Executando Agente Buscador ---\n",
            "\n",
            "### Resultado da Busca:\n"
          ]
        },
        {
          "output_type": "display_data",
          "data": {
            "text/plain": [
              "<IPython.core.display.Markdown object>"
            ],
            "text/markdown": "> Para apresentar as tendências da inteligência artificial de forma didática, vou realizar algumas pesquisas para coletar informações relevantes e atuais.\n> \n> \n> Com base nas pesquisas realizadas, apresento as tendências da inteligência artificial para 2025 de forma didática:\n> \n> 1.  **Agentes de IA e Autonomia:**\n> \n>     *   Os agentes de IA estão se tornando mais autônomos, capazes de gerenciar tarefas complexas com pouca intervenção humana. Eles podem tomar decisões com base em dados e algoritmos, otimizando processos e liberando equipes para atividades estratégicas.\n>     *   Exemplo: Agentes de IA preenchendo automaticamente formulários com base em informações coletadas de e-mails, cabendo aos humanos supervisionar os resultados.\n> \n> 2.  **IA Generativa como Padrão:**\n> \n>     *   Ferramentas como ChatGPT e MidJourney estão se expandindo e se tornando essenciais na criação de conteúdo, marketing, design e estratégias de vendas. A IA generativa acelera a produção de materiais e automatiza procedimentos demorados.\n>     *   Exemplo: 80% dos usuários do ChatGPT relatam um aumento significativo na produtividade ao criar textos, imagens e vídeos.\n> \n> 3.  **Hiperpersonalização no Atendimento ao Cliente:**\n> \n>     *   A IA permite a criação de experiências únicas e personalizadas para cada cliente, ajustando propostas e ofertas com base em suas necessidades individuais.\n>     *   Exemplo: 63% dos consumidores preferem comprar de empresas que oferecem experiências personalizadas.\n> \n> 4.  **Democratização da IA:**\n> \n>     *   Ferramentas no-code e low-code tornam a IA mais acessível para empresas de todos os tamanhos, eliminando a necessidade de conhecimento técnico avançado. Isso permite que equipes criem soluções personalizadas, como automação de fluxos e análises preditivas.\n>     *   Exemplo: Até 2026, mais de 80% dos fornecedores de software integrarão IA generativa em seus produtos, e 70% das novas aplicações serão desenvolvidas com ferramentas no-code ou low-code.\n> \n> 5.  **IA Multimodal:**\n> \n>     *   A IA multimodal processa diferentes tipos de dados simultaneamente, como texto, imagem, áudio e vídeo, permitindo uma compreensão mais completa do contexto.\n>     *   Exemplo: A IA analisa posts nas redes sociais, interpretando o texto e as imagens associadas para captar nuances como ironia ou emoção.\n> \n> 6.  **Colaboração entre Pessoas e IA:**\n> \n>     *   A IA assume o papel de assistente dos profissionais, auxiliando na execução de tarefas e permitindo que os humanos se concentrem em atividades estratégicas e criativas.\n>     *   Exemplo: Agentes de IA auxiliando profissionais a gerenciar seu tempo e criar espaço para o pensamento estratégico.\n> \n> 7.  **IA e o Futuro do Trabalho:**\n> \n>     *   A IA está remodelando o mercado de trabalho, criando novas oportunidades e exigindo novas habilidades. Profissões ligadas à análise de dados, desenvolvimento de IA, segurança cibernética e experiência do cliente devem crescer.\n>     *   Exemplo: A IA deve criar cerca de 97 milhões de novos empregos até 2025, ao mesmo tempo em que elimina aproximadamente 85 milhões de postos de trabalho tradicionais.\n> \n> 8.  **Tendências Adicionais:**\n> \n>     *   **Computação Quântica:** A computação quântica promete acelerar a inovação em IA e aprimorar suas capacidades, permitindo o processamento de grandes volumes de dados mais rapidamente.\n>     *   **Personalização com IA:** A IA permite a criação de propostas altamente personalizadas, ajustadas às necessidades de cada cliente.\n>     *   **Ética e Responsabilidade:** Há um crescente foco em garantir que a IA seja usada de forma ética e responsável, abordando questões como viés algorítmico e privacidade de dados.\n>     *   **Integração com IoT e Edge Computing:** A IA está sendo cada vez mais integrada com dispositivos IoT e edge computing, permitindo que dispositivos inteligentes tomem decisões mais rápidas e eficientes.\n>     *   **Segurança:** A segurança das soluções de IA é uma prioridade máxima, com foco no investimento em segurança para proteger os sistemas contra possíveis ataques.\n> \n> Em resumo, a inteligência artificial está evoluindo rapidamente e se tornando uma parte essencial de diversos setores. As tendências para 2025 apontam para uma IA mais autônoma, acessível, personalizada e colaborativa, com um impacto significativo no mercado de trabalho e na forma como interagimos com a tecnologia.\n> \n"
          },
          "metadata": {}
        },
        {
          "output_type": "stream",
          "name": "stdout",
          "text": [
            "-------------------------------\n",
            "\n",
            "--- Executando Agente Planejador ---\n",
            "\n",
            "### Plano de Conteúdo Gerado:\n"
          ]
        },
        {
          "output_type": "display_data",
          "data": {
            "text/plain": [
              "<IPython.core.display.Markdown object>"
            ],
            "text/markdown": "> 1.  **IA Generativa e a Expansão da Criação de Conteúdo:**\n>     *   Como a IA generativa, exemplificada por ferramentas como ChatGPT e MidJourney, está se tornando padrão na criação de conteúdo e em outras áreas.\n>     *   Impacto da IA generativa na produtividade e automação de tarefas demoradas, com dados estatísticos sobre o aumento da eficiência.\n> \n> 2.  **Hiperpersonalização Impulsionada por IA no Atendimento ao Cliente:**\n>     *   A capacidade da IA de criar experiências personalizadas para clientes, ajustando ofertas e propostas com base em necessidades individuais.\n>     *   Estatísticas que demonstram a preferência dos consumidores por empresas que oferecem experiências personalizadas.\n> \n> 3.  **Democratização da IA Através de Ferramentas No-Code e Low-Code:**\n>     *   Como ferramentas no-code e low-code estão tornando a IA mais acessível para empresas de todos os tamanhos, eliminando a necessidade de conhecimento técnico avançado.\n>     *   Projeções sobre a integração da IA generativa em softwares e o desenvolvimento de novas aplicações com ferramentas no-code ou low-code.\n> \n> 4.  **IA Multimodal e a Compreensão Contextual Avançada:**\n>     *   A capacidade da IA multimodal de processar simultaneamente diferentes tipos de dados, como texto, imagem, áudio e vídeo, para uma compreensão mais completa do contexto.\n>     *   Exemplos práticos de como a IA multimodal é utilizada para interpretar nuances e emoções em posts nas redes sociais, analisando tanto o texto quanto as imagens associadas.\n> \n"
          },
          "metadata": {}
        },
        {
          "output_type": "stream",
          "name": "stdout",
          "text": [
            "-------------------------------\n",
            "\n",
            "--- Iniciando Geração e Revisão do Rascunho (por Seção) ---\n",
            "\n",
            "--- Processando Seção 1/4: '**IA Generativa e a Expansão da Criação de Conteúdo:**' ---\n",
            "\n",
            "#### Rascunho Inicial:\n"
          ]
        },
        {
          "output_type": "display_data",
          "data": {
            "text/plain": [
              "<IPython.core.display.Markdown object>"
            ],
            "text/markdown": "> A Inteligência Artificial (IA) generativa está revolucionando a criação de conteúdo. Ferramentas como ChatGPT e MidJourney tornaram-se padrão, impulsionando a produtividade e automatizando tarefas antes demoradas.\n> \n> Imagine aumentar a eficiência da sua equipe em até 50% com a ajuda da IA generativa. Essa tecnologia não só economiza tempo, mas também abre portas para a inovação, permitindo que os profissionais se concentrem em tarefas estratégicas e criativas.\n> \n> \"A inteligência artificial é a nova eletricidade.\" – Andrew Ng.\n> \n> Essa expansão da IA generativa democratiza a criação de conteúdo, capacitando empresas e criadores a produzirem materiais de alta qualidade de forma mais rápida e acessível.\n"
          },
          "metadata": {}
        },
        {
          "output_type": "stream",
          "name": "stdout",
          "text": [
            "-------------------------------\n",
            "\n",
            "--- Revisando Seção (Tentativa 1/3) ---\n",
            "Estado inicial da revisão: revisao_finalizada=False, tentativas_revisao=1\n",
            "\n",
            "#### Feedback do Revisor:\n"
          ]
        },
        {
          "output_type": "display_data",
          "data": {
            "text/plain": [
              "<IPython.core.display.Markdown object>"
            ],
            "text/markdown": "> O rascunho está ótimo e pronto!\n> \n"
          },
          "metadata": {}
        },
        {
          "output_type": "stream",
          "name": "stdout",
          "text": [
            "-------------------------------\n",
            "Feedback bruto do revisor: 'O rascunho está ótimo e pronto!\n",
            "\n",
            "'\n",
            "Feedback processado (minusculo/sem espaços): 'o rascunho está ótimo e pronto!'\n",
            "👍 Seção '**IA Generativa e a Expansão da Criação de Conteúdo:**' aprovada pelo Revisor!\n",
            "Valor de revisao_finalizada após aprovação: True\n",
            "Fim da Tentativa 1. Condição do loop: False\n",
            "\n",
            "--- Processando Seção 2/4: '**Hiperpersonalização Impulsionada por IA no Atendimento ao Cliente:**' ---\n",
            "\n",
            "#### Rascunho Inicial:\n"
          ]
        },
        {
          "output_type": "display_data",
          "data": {
            "text/plain": [
              "<IPython.core.display.Markdown object>"
            ],
            "text/markdown": "> ## Hiperpersonalização Impulsionada por IA no Atendimento ao Cliente\n> \n> Já imaginou um mundo onde cada interação com uma empresa é única, feita sob medida para você? A Inteligência Artificial está tornando isso realidade! Com a capacidade de analisar dados e entender as necessidades individuais de cada cliente, a IA permite criar experiências hiperpersonalizadas.\n> \n> Imagine receber ofertas de produtos que você realmente quer, ou ter um atendimento que já sabe do seu histórico e preferências. A IA possibilita ajustar ofertas e propostas com base em suas necessidades, transformando a forma como as empresas se relacionam com seus clientes.\n> \n> Não é à toa que os consumidores estão cada vez mais exigentes e preferem empresas que oferecem experiências personalizadas. \"A personalização não é mais uma opção, mas uma expectativa do cliente\", como disse Tom Fishburne, renomado especialista em marketing. Invista em IA e destaque-se!\n> \n"
          },
          "metadata": {}
        },
        {
          "output_type": "stream",
          "name": "stdout",
          "text": [
            "-------------------------------\n",
            "\n",
            "--- Revisando Seção (Tentativa 1/3) ---\n",
            "Estado inicial da revisão: revisao_finalizada=False, tentativas_revisao=1\n",
            "\n",
            "#### Feedback do Revisor:\n"
          ]
        },
        {
          "output_type": "display_data",
          "data": {
            "text/plain": [
              "<IPython.core.display.Markdown object>"
            ],
            "text/markdown": "> O rascunho está ótimo e pronto!\n> \n"
          },
          "metadata": {}
        },
        {
          "output_type": "stream",
          "name": "stdout",
          "text": [
            "-------------------------------\n",
            "Feedback bruto do revisor: 'O rascunho está ótimo e pronto!\n",
            "\n",
            "'\n",
            "Feedback processado (minusculo/sem espaços): 'o rascunho está ótimo e pronto!'\n",
            "👍 Seção '**Hiperpersonalização Impulsionada por IA no Atendimento ao Cliente:**' aprovada pelo Revisor!\n",
            "Valor de revisao_finalizada após aprovação: True\n",
            "Fim da Tentativa 1. Condição do loop: False\n",
            "\n",
            "--- Processando Seção 3/4: '**Democratização da IA Através de Ferramentas No-Code e Low-Code:**' ---\n",
            "\n",
            "#### Rascunho Inicial:\n"
          ]
        },
        {
          "output_type": "display_data",
          "data": {
            "text/plain": [
              "<IPython.core.display.Markdown object>"
            ],
            "text/markdown": "> A Inteligência Artificial está se tornando cada vez mais acessível, e as ferramentas No-Code e Low-Code são as grandes responsáveis por essa democratização. Elas permitem que empresas de todos os portes implementem soluções de IA sem a necessidade de especialistas em programação, abrindo um leque de oportunidades para inovação e crescimento.\n> \n> Imagine poder criar um chatbot inteligente para o seu negócio sem escrever uma única linha de código, ou então, automatizar tarefas complexas com apenas alguns cliques. Essa é a realidade que as plataformas No-Code e Low-Code proporcionam, simplificando o desenvolvimento e a implementação de soluções baseadas em IA.\n> \n> A integração da IA generativa em softwares e o desenvolvimento de novas aplicações com essas ferramentas é uma tendência que veio para ficar. Em breve, veremos um boom de soluções inovadoras criadas por pessoas que antes não tinham acesso ao mundo da Inteligência Artificial.\n> \n> Como disse Andrew Ng, um dos maiores nomes da área, \"IA é a nova eletricidade\". E assim como a eletricidade transformou o mundo, a IA está revolucionando a forma como vivemos e trabalhamos. Com a democratização da IA, o futuro está ao alcance de todos.\n> \n"
          },
          "metadata": {}
        },
        {
          "output_type": "stream",
          "name": "stdout",
          "text": [
            "-------------------------------\n",
            "\n",
            "--- Revisando Seção (Tentativa 1/3) ---\n",
            "Estado inicial da revisão: revisao_finalizada=False, tentativas_revisao=1\n",
            "\n",
            "#### Feedback do Revisor:\n"
          ]
        },
        {
          "output_type": "display_data",
          "data": {
            "text/plain": [
              "<IPython.core.display.Markdown object>"
            ],
            "text/markdown": "> O rascunho está ótimo e pronto!\n> \n"
          },
          "metadata": {}
        },
        {
          "output_type": "stream",
          "name": "stdout",
          "text": [
            "-------------------------------\n",
            "Feedback bruto do revisor: 'O rascunho está ótimo e pronto!\n",
            "\n",
            "'\n",
            "Feedback processado (minusculo/sem espaços): 'o rascunho está ótimo e pronto!'\n",
            "👍 Seção '**Democratização da IA Através de Ferramentas No-Code e Low-Code:**' aprovada pelo Revisor!\n",
            "Valor de revisao_finalizada após aprovação: True\n",
            "Fim da Tentativa 1. Condição do loop: False\n",
            "\n",
            "--- Processando Seção 4/4: '**IA Multimodal e a Compreensão Contextual Avançada:**' ---\n",
            "\n",
            "#### Rascunho Inicial:\n"
          ]
        },
        {
          "output_type": "display_data",
          "data": {
            "text/plain": [
              "<IPython.core.display.Markdown object>"
            ],
            "text/markdown": "> A Inteligência Artificial multimodal chegou para revolucionar a forma como as máquinas \"entendem\" o mundo. Imagine um sistema que não apenas lê um texto, mas também observa imagens, escuta áudios e assiste a vídeos simultaneamente. Essa é a proposta da IA multimodal: uma compreensão contextual muito mais rica e profunda.\n> \n> Na prática, isso significa que a IA pode, por exemplo, analisar um post nas redes sociais e identificar nuances e emoções que passariam despercebidas se ela avaliasse apenas o texto. Ao combinar a análise do texto com as imagens e os vídeos associados, a IA multimodal consegue interpretar o contexto de forma muito mais precisa.\n> \n> \"A inteligência é a habilidade de se adaptar à mudança\", já dizia Stephen Hawking. E a IA multimodal representa exatamente isso: a capacidade da tecnologia de se adaptar e evoluir para compreender o mundo de forma cada vez mais completa e contextualizada.\n> \n"
          },
          "metadata": {}
        },
        {
          "output_type": "stream",
          "name": "stdout",
          "text": [
            "-------------------------------\n",
            "\n",
            "--- Revisando Seção (Tentativa 1/3) ---\n",
            "Estado inicial da revisão: revisao_finalizada=False, tentativas_revisao=1\n",
            "\n",
            "#### Feedback do Revisor:\n"
          ]
        },
        {
          "output_type": "display_data",
          "data": {
            "text/plain": [
              "<IPython.core.display.Markdown object>"
            ],
            "text/markdown": "> O rascunho está ótimo e pronto!\n"
          },
          "metadata": {}
        },
        {
          "output_type": "stream",
          "name": "stdout",
          "text": [
            "-------------------------------\n",
            "Feedback bruto do revisor: 'O rascunho está ótimo e pronto!\n",
            "'\n",
            "Feedback processado (minusculo/sem espaços): 'o rascunho está ótimo e pronto!'\n",
            "👍 Seção '**IA Multimodal e a Compreensão Contextual Avançada:**' aprovada pelo Revisor!\n",
            "Valor de revisao_finalizada após aprovação: True\n",
            "Fim da Tentativa 1. Condição do loop: False\n",
            "\n",
            "--- Geração e Revisão por Seção Concluídas ---\n",
            "\n",
            "## 🎉 Rascunho Completo Gerado (Após Revisão por Seção) 🎉\n"
          ]
        },
        {
          "output_type": "display_data",
          "data": {
            "text/plain": [
              "<IPython.core.display.Markdown object>"
            ],
            "text/markdown": "> ## **IA Generativa e a Expansão da Criação de Conteúdo:**\n> \n> A Inteligência Artificial (IA) generativa está revolucionando a criação de conteúdo. Ferramentas como ChatGPT e MidJourney tornaram-se padrão, impulsionando a produtividade e automatizando tarefas antes demoradas.\n> \n> Imagine aumentar a eficiência da sua equipe em até 50% com a ajuda da IA generativa. Essa tecnologia não só economiza tempo, mas também abre portas para a inovação, permitindo que os profissionais se concentrem em tarefas estratégicas e criativas.\n> \n> \"A inteligência artificial é a nova eletricidade.\" – Andrew Ng.\n> \n> Essa expansão da IA generativa democratiza a criação de conteúdo, capacitando empresas e criadores a produzirem materiais de alta qualidade de forma mais rápida e acessível.\n> \n> \n> ## **Hiperpersonalização Impulsionada por IA no Atendimento ao Cliente:**\n> \n> ## Hiperpersonalização Impulsionada por IA no Atendimento ao Cliente\n> \n> Já imaginou um mundo onde cada interação com uma empresa é única, feita sob medida para você? A Inteligência Artificial está tornando isso realidade! Com a capacidade de analisar dados e entender as necessidades individuais de cada cliente, a IA permite criar experiências hiperpersonalizadas.\n> \n> Imagine receber ofertas de produtos que você realmente quer, ou ter um atendimento que já sabe do seu histórico e preferências. A IA possibilita ajustar ofertas e propostas com base em suas necessidades, transformando a forma como as empresas se relacionam com seus clientes.\n> \n> Não é à toa que os consumidores estão cada vez mais exigentes e preferem empresas que oferecem experiências personalizadas. \"A personalização não é mais uma opção, mas uma expectativa do cliente\", como disse Tom Fishburne, renomado especialista em marketing. Invista em IA e destaque-se!\n> \n> \n> \n> ## **Democratização da IA Através de Ferramentas No-Code e Low-Code:**\n> \n> A Inteligência Artificial está se tornando cada vez mais acessível, e as ferramentas No-Code e Low-Code são as grandes responsáveis por essa democratização. Elas permitem que empresas de todos os portes implementem soluções de IA sem a necessidade de especialistas em programação, abrindo um leque de oportunidades para inovação e crescimento.\n> \n> Imagine poder criar um chatbot inteligente para o seu negócio sem escrever uma única linha de código, ou então, automatizar tarefas complexas com apenas alguns cliques. Essa é a realidade que as plataformas No-Code e Low-Code proporcionam, simplificando o desenvolvimento e a implementação de soluções baseadas em IA.\n> \n> A integração da IA generativa em softwares e o desenvolvimento de novas aplicações com essas ferramentas é uma tendência que veio para ficar. Em breve, veremos um boom de soluções inovadoras criadas por pessoas que antes não tinham acesso ao mundo da Inteligência Artificial.\n> \n> Como disse Andrew Ng, um dos maiores nomes da área, \"IA é a nova eletricidade\". E assim como a eletricidade transformou o mundo, a IA está revolucionando a forma como vivemos e trabalhamos. Com a democratização da IA, o futuro está ao alcance de todos.\n> \n> \n> \n> ## **IA Multimodal e a Compreensão Contextual Avançada:**\n> \n> A Inteligência Artificial multimodal chegou para revolucionar a forma como as máquinas \"entendem\" o mundo. Imagine um sistema que não apenas lê um texto, mas também observa imagens, escuta áudios e assiste a vídeos simultaneamente. Essa é a proposta da IA multimodal: uma compreensão contextual muito mais rica e profunda.\n> \n> Na prática, isso significa que a IA pode, por exemplo, analisar um post nas redes sociais e identificar nuances e emoções que passariam despercebidas se ela avaliasse apenas o texto. Ao combinar a análise do texto com as imagens e os vídeos associados, a IA multimodal consegue interpretar o contexto de forma muito mais precisa.\n> \n> \"A inteligência é a habilidade de se adaptar à mudança\", já dizia Stephen Hawking. E a IA multimodal representa exatamente isso: a capacidade da tecnologia de se adaptar e evoluir para compreender o mundo de forma cada vez mais completa e contextualizada.\n> \n"
          },
          "metadata": {}
        },
        {
          "output_type": "stream",
          "name": "stdout",
          "text": [
            "-------------------------------\n",
            "\n",
            "O sistema concluiu o processo de planejamento e geração de conteúdo.\n"
          ]
        }
      ]
    }
  ]
}