{
  "nbformat": 4,
  "nbformat_minor": 0,
  "metadata": {
    "colab": {
      "provenance": []
    },
    "kernelspec": {
      "name": "python3",
      "display_name": "Python 3"
    },
    "language_info": {
      "name": "python"
    }
  },
  "cells": [
    {
      "cell_type": "code",
      "source": [
        "%pip -q install google-genai"
      ],
      "metadata": {
        "id": "UCCbECexLk_h"
      },
      "execution_count": null,
      "outputs": []
    },
    {
      "cell_type": "code",
      "source": [
        "# Configura a API Key do Google Gemini e o cliente da SDK do Gemini\n",
        "\n",
        "import os\n",
        "from google.colab import userdata\n",
        "\n",
        "os.environ[\"GOOGLE_API_KEY\"] = userdata.get('GOOGLE_API_KEY')"
      ],
      "metadata": {
        "id": "JmDmSI7-lfwQ"
      },
      "execution_count": null,
      "outputs": []
    },
    {
      "cell_type": "code",
      "source": [
        "#configura o cliente da SDK do Gemini\n",
        "from google import genai\n",
        "\n",
        "client = genai.Client()\n",
        "\n",
        "MODEL_ID = \"gemini-2.0-flash\""
      ],
      "metadata": {
        "id": "y2NrJisenG03"
      },
      "execution_count": null,
      "outputs": []
    },
    {
      "cell_type": "code",
      "source": [
        "# Pergunta ao Gemini uma informação mais recente que seu conhecimento\n",
        "\n",
        "from IPython.display import HTML, Markdown\n",
        "\n",
        "# Perguntar pro modelo quando é a próxima imersão de IA ###############################################\n",
        "resposta = client.models.generate_content(\n",
        "    model=MODEL_ID,\n",
        "    contents='Quando é a próxima Imersão IA com Google Gemini da Alura?',\n",
        ")\n",
        "\n",
        "# Exibe a resposta na tela\n",
        "display(Markdown(f\"Resposta:\\n {resposta.text}\"))"
      ],
      "metadata": {
        "id": "HwVP7Xi34Zuw",
        "colab": {
          "base_uri": "https://localhost:8080/",
          "height": 104
        },
        "outputId": "62720be3-f9f6-4a0a-9621-0bb5b346710b"
      },
      "execution_count": null,
      "outputs": [
        {
          "output_type": "display_data",
          "data": {
            "text/plain": [
              "<IPython.core.display.Markdown object>"
            ],
            "text/markdown": "Resposta:\n A Alura não tem uma data fixa para a Imersão IA com Google Gemini. A melhor forma de saber quando a próxima edição será lançada é:\n\n*   **Acompanhar a página da Alura:** Verifique regularmente a página da Alura dedicada a imersões ou cursos de Inteligência Artificial.\n*   **Seguir a Alura nas redes sociais:** A Alura costuma anunciar novas edições de cursos e imersões em suas redes sociais (LinkedIn, Instagram, etc.).\n*   **Assinar a newsletter da Alura:** Ao assinar a newsletter, você receberá informações sobre os próximos lançamentos e eventos da Alura."
          },
          "metadata": {}
        }
      ]
    },
    {
      "cell_type": "code",
      "source": [
        "# Pergunta ao Gemini uma informação utilizando a busca do Google como contexto\n",
        "\n",
        "response = client.models.generate_content(\n",
        "    model=MODEL_ID,\n",
        "    contents='Quando é a próxima Imersão IA com Google Gemini da Alura?',\n",
        "    config={\"tools\": [{\"google_search\":{}}]}\n",
        ")\n",
        "\n",
        "# Exibe a resposta na tela\n",
        "display(Markdown(f\"Resposta:\\n {response.text}\"))"
      ],
      "metadata": {
        "id": "yXaZd7iZ4ftw",
        "colab": {
          "base_uri": "https://localhost:8080/",
          "height": 98
        },
        "outputId": "75d1cc72-9f79-4a5f-9b7e-ad10becade94"
      },
      "execution_count": null,
      "outputs": [
        {
          "output_type": "display_data",
          "data": {
            "text/plain": [
              "<IPython.core.display.Markdown object>"
            ],
            "text/markdown": "Resposta:\n A próxima Imersão IA com Google Gemini da Alura acontecerá entre os dias 12 e 16 de maio de 2025. A Imersão IA é um curso online e gratuito, com o objetivo de ensinar como usar a inteligência artificial do Google, o Gemini, em projetos práticos. As aulas serão ministradas por especialistas da Alura e do Google, e os participantes terão a oportunidade de criar prompts eficazes, automatizar tarefas e desenvolver agentes autônomos. As inscrições estão abertas até o dia 11 de maio.\n"
          },
          "metadata": {}
        }
      ]
    },
    {
      "cell_type": "code",
      "source": [
        "# Exibe a busca\n",
        "print(f\"Busca realizada: {response.candidates[0].grounding_metadata.web_search_queries}\")\n",
        "# Exibe as URLs nas quais ele se baseou\n",
        "print(f\"Páginas utilizadas na resposta: {', '.join([site.web.title for site in response.candidates[0].grounding_metadata.grounding_chunks])}\")\n",
        "print()\n",
        "display(HTML(response.candidates[0].grounding_metadata.search_entry_point.rendered_content))"
      ],
      "metadata": {
        "id": "xHSNlTd84heJ",
        "colab": {
          "base_uri": "https://localhost:8080/",
          "height": 120
        },
        "outputId": "c2d6785b-1640-4e27-df02-d7740890798b"
      },
      "execution_count": null,
      "outputs": [
        {
          "output_type": "stream",
          "name": "stdout",
          "text": [
            "Busca realizada: ['Alura Imersão IA com Google Gemini', 'Próxima Imersão IA com Google Gemini da Alura']\n",
            "Páginas utilizadas na resposta: alura.com.br, tecmundo.com.br, starten.tech\n",
            "\n"
          ]
        },
        {
          "output_type": "display_data",
          "data": {
            "text/plain": [
              "<IPython.core.display.HTML object>"
            ],
            "text/html": [
              "<style>\n",
              ".container {\n",
              "  align-items: center;\n",
              "  border-radius: 8px;\n",
              "  display: flex;\n",
              "  font-family: Google Sans, Roboto, sans-serif;\n",
              "  font-size: 14px;\n",
              "  line-height: 20px;\n",
              "  padding: 8px 12px;\n",
              "}\n",
              ".chip {\n",
              "  display: inline-block;\n",
              "  border: solid 1px;\n",
              "  border-radius: 16px;\n",
              "  min-width: 14px;\n",
              "  padding: 5px 16px;\n",
              "  text-align: center;\n",
              "  user-select: none;\n",
              "  margin: 0 8px;\n",
              "  -webkit-tap-highlight-color: transparent;\n",
              "}\n",
              ".carousel {\n",
              "  overflow: auto;\n",
              "  scrollbar-width: none;\n",
              "  white-space: nowrap;\n",
              "  margin-right: -12px;\n",
              "}\n",
              ".headline {\n",
              "  display: flex;\n",
              "  margin-right: 4px;\n",
              "}\n",
              ".gradient-container {\n",
              "  position: relative;\n",
              "}\n",
              ".gradient {\n",
              "  position: absolute;\n",
              "  transform: translate(3px, -9px);\n",
              "  height: 36px;\n",
              "  width: 9px;\n",
              "}\n",
              "@media (prefers-color-scheme: light) {\n",
              "  .container {\n",
              "    background-color: #fafafa;\n",
              "    box-shadow: 0 0 0 1px #0000000f;\n",
              "  }\n",
              "  .headline-label {\n",
              "    color: #1f1f1f;\n",
              "  }\n",
              "  .chip {\n",
              "    background-color: #ffffff;\n",
              "    border-color: #d2d2d2;\n",
              "    color: #5e5e5e;\n",
              "    text-decoration: none;\n",
              "  }\n",
              "  .chip:hover {\n",
              "    background-color: #f2f2f2;\n",
              "  }\n",
              "  .chip:focus {\n",
              "    background-color: #f2f2f2;\n",
              "  }\n",
              "  .chip:active {\n",
              "    background-color: #d8d8d8;\n",
              "    border-color: #b6b6b6;\n",
              "  }\n",
              "  .logo-dark {\n",
              "    display: none;\n",
              "  }\n",
              "  .gradient {\n",
              "    background: linear-gradient(90deg, #fafafa 15%, #fafafa00 100%);\n",
              "  }\n",
              "}\n",
              "@media (prefers-color-scheme: dark) {\n",
              "  .container {\n",
              "    background-color: #1f1f1f;\n",
              "    box-shadow: 0 0 0 1px #ffffff26;\n",
              "  }\n",
              "  .headline-label {\n",
              "    color: #fff;\n",
              "  }\n",
              "  .chip {\n",
              "    background-color: #2c2c2c;\n",
              "    border-color: #3c4043;\n",
              "    color: #fff;\n",
              "    text-decoration: none;\n",
              "  }\n",
              "  .chip:hover {\n",
              "    background-color: #353536;\n",
              "  }\n",
              "  .chip:focus {\n",
              "    background-color: #353536;\n",
              "  }\n",
              "  .chip:active {\n",
              "    background-color: #464849;\n",
              "    border-color: #53575b;\n",
              "  }\n",
              "  .logo-light {\n",
              "    display: none;\n",
              "  }\n",
              "  .gradient {\n",
              "    background: linear-gradient(90deg, #1f1f1f 15%, #1f1f1f00 100%);\n",
              "  }\n",
              "}\n",
              "</style>\n",
              "<div class=\"container\">\n",
              "  <div class=\"headline\">\n",
              "    <svg class=\"logo-light\" width=\"18\" height=\"18\" viewBox=\"9 9 35 35\" fill=\"none\" xmlns=\"http://www.w3.org/2000/svg\">\n",
              "      <path fill-rule=\"evenodd\" clip-rule=\"evenodd\" d=\"M42.8622 27.0064C42.8622 25.7839 42.7525 24.6084 42.5487 23.4799H26.3109V30.1568H35.5897C35.1821 32.3041 33.9596 34.1222 32.1258 35.3448V39.6864H37.7213C40.9814 36.677 42.8622 32.2571 42.8622 27.0064V27.0064Z\" fill=\"#4285F4\"/>\n",
              "      <path fill-rule=\"evenodd\" clip-rule=\"evenodd\" d=\"M26.3109 43.8555C30.9659 43.8555 34.8687 42.3195 37.7213 39.6863L32.1258 35.3447C30.5898 36.3792 28.6306 37.0061 26.3109 37.0061C21.8282 37.0061 18.0195 33.9811 16.6559 29.906H10.9194V34.3573C13.7563 39.9841 19.5712 43.8555 26.3109 43.8555V43.8555Z\" fill=\"#34A853\"/>\n",
              "      <path fill-rule=\"evenodd\" clip-rule=\"evenodd\" d=\"M16.6559 29.8904C16.3111 28.8559 16.1074 27.7588 16.1074 26.6146C16.1074 25.4704 16.3111 24.3733 16.6559 23.3388V18.8875H10.9194C9.74388 21.2072 9.06992 23.8247 9.06992 26.6146C9.06992 29.4045 9.74388 32.022 10.9194 34.3417L15.3864 30.8621L16.6559 29.8904V29.8904Z\" fill=\"#FBBC05\"/>\n",
              "      <path fill-rule=\"evenodd\" clip-rule=\"evenodd\" d=\"M26.3109 16.2386C28.85 16.2386 31.107 17.1164 32.9095 18.8091L37.8466 13.8719C34.853 11.082 30.9659 9.3736 26.3109 9.3736C19.5712 9.3736 13.7563 13.245 10.9194 18.8875L16.6559 23.3388C18.0195 19.2636 21.8282 16.2386 26.3109 16.2386V16.2386Z\" fill=\"#EA4335\"/>\n",
              "    </svg>\n",
              "    <svg class=\"logo-dark\" width=\"18\" height=\"18\" viewBox=\"0 0 48 48\" xmlns=\"http://www.w3.org/2000/svg\">\n",
              "      <circle cx=\"24\" cy=\"23\" fill=\"#FFF\" r=\"22\"/>\n",
              "      <path d=\"M33.76 34.26c2.75-2.56 4.49-6.37 4.49-11.26 0-.89-.08-1.84-.29-3H24.01v5.99h8.03c-.4 2.02-1.5 3.56-3.07 4.56v.75l3.91 2.97h.88z\" fill=\"#4285F4\"/>\n",
              "      <path d=\"M15.58 25.77A8.845 8.845 0 0 0 24 31.86c1.92 0 3.62-.46 4.97-1.31l4.79 3.71C31.14 36.7 27.65 38 24 38c-5.93 0-11.01-3.4-13.45-8.36l.17-1.01 4.06-2.85h.8z\" fill=\"#34A853\"/>\n",
              "      <path d=\"M15.59 20.21a8.864 8.864 0 0 0 0 5.58l-5.03 3.86c-.98-2-1.53-4.25-1.53-6.64 0-2.39.55-4.64 1.53-6.64l1-.22 3.81 2.98.22 1.08z\" fill=\"#FBBC05\"/>\n",
              "      <path d=\"M24 14.14c2.11 0 4.02.75 5.52 1.98l4.36-4.36C31.22 9.43 27.81 8 24 8c-5.93 0-11.01 3.4-13.45 8.36l5.03 3.85A8.86 8.86 0 0 1 24 14.14z\" fill=\"#EA4335\"/>\n",
              "    </svg>\n",
              "    <div class=\"gradient-container\"><div class=\"gradient\"></div></div>\n",
              "  </div>\n",
              "  <div class=\"carousel\">\n",
              "    <a class=\"chip\" href=\"https://vertexaisearch.cloud.google.com/grounding-api-redirect/AbF9wXFZk5uw6BYcOlLCOLZg-NA4nYli1PljBe-JG5kbOhjXUyvItxKMtiFtn_J0bNRmpQxTuib2ZiFeiQ3r5U9MXpKgig4fklmVa4oxWaxBK2kw4H94n9RTXWKr_2jWEqS-pQ9BzTuHF93UUKeE0XY52CMWxS89oQZkzmqdd0sklC1PPzxIV-57YnVF-Y_PxScyfXFGvo0qVnvrQMo5IoBpc4DB2qI87PTVIAErng==\">Alura Imersão IA com Google Gemini</a>\n",
              "    <a class=\"chip\" href=\"https://vertexaisearch.cloud.google.com/grounding-api-redirect/AbF9wXEGSD4m-Y_IxE2U1Oy8acPbs8iHp8KjdFqIVbGgg_dT63vSYzXblF5AJ6j9mMMSrrMOP2cYwR8xYZdMFbXAHl-X6iS73SgjYihRf3ru_fIVbRI4Rl8UPMy5TUV30sI47MeIE7sW904krbbrlBDEdgX_8gquLwFS14MofmWuGuagYOBVyu_US8uBmtW3k8hcAmx8RS0PETRMhr9LStJrC9wTiKPDEgMC00-imtsfAgP3pIshk3TdKleUCLHp\">Próxima Imersão IA com Google Gemini da Alura</a>\n",
              "  </div>\n",
              "</div>\n"
            ]
          },
          "metadata": {}
        }
      ]
    },
    {
      "cell_type": "code",
      "source": [
        "# Instalar Framework ADK de agentes do Google ################################################\n",
        "!pip install -q google-adk"
      ],
      "metadata": {
        "id": "hvZ3UnPI4jhJ"
      },
      "execution_count": null,
      "outputs": []
    },
    {
      "cell_type": "code",
      "execution_count": null,
      "metadata": {
        "id": "aePV2bdfDeoW"
      },
      "outputs": [],
      "source": [
        "from google.adk.agents import Agent\n",
        "from google.adk.runners import Runner\n",
        "from google.adk.sessions import InMemorySessionService\n",
        "from google.adk.tools import google_search\n",
        "from google.genai import types  # Para criar conteúdos (Content e Part)\n",
        "from datetime import date\n",
        "import textwrap # Para formatar melhor a saída de texto\n",
        "from IPython.display import display, Markdown # Para exibir texto formatado no Colab\n",
        "import requests # Para fazer requisições HTTP\n",
        "import warnings\n",
        "\n",
        "warnings.filterwarnings(\"ignore\")"
      ]
    },
    {
      "cell_type": "code",
      "source": [
        "# Função auxiliar que envia uma mensagem para um agente via Runner e retorna a resposta final\n",
        "def call_agent(agent: Agent, message_text: str) -> str:\n",
        "    # Cria um serviço de sessão em memória\n",
        "    session_service = InMemorySessionService()\n",
        "    # Cria uma nova sessão (você pode personalizar os IDs conforme necessário)\n",
        "    session = session_service.create_session(app_name=agent.name, user_id=\"user1\", session_id=\"session1\")\n",
        "    # Cria um Runner para o agente\n",
        "    runner = Runner(agent=agent, app_name=agent.name, session_service=session_service)\n",
        "    # Cria o conteúdo da mensagem de entrada\n",
        "    content = types.Content(role=\"user\", parts=[types.Part(text=message_text)])\n",
        "\n",
        "    final_response = \"\"\n",
        "    # Itera assincronamente pelos eventos retornados durante a execução do agente\n",
        "    for event in runner.run(user_id=\"user1\", session_id=\"session1\", new_message=content):\n",
        "        if event.is_final_response():\n",
        "          for part in event.content.parts:\n",
        "            if part.text is not None:\n",
        "              final_response += part.text\n",
        "              final_response += \"\\n\"\n",
        "    return final_response"
      ],
      "metadata": {
        "id": "_xP4lWhsS5ko"
      },
      "execution_count": null,
      "outputs": []
    },
    {
      "cell_type": "code",
      "source": [
        "# Função auxiliar para exibir texto formatado em Markdown no Colab\n",
        "def to_markdown(text):\n",
        "  text = text.replace('•', '  *')\n",
        "  return Markdown(textwrap.indent(text, '> ', predicate=lambda _: True))"
      ],
      "metadata": {
        "id": "8dosiodaxfFR"
      },
      "execution_count": null,
      "outputs": []
    },
    {
      "cell_type": "code",
      "source": [
        "##########################################\n",
        "# --- Agente 1: Buscador de Notícias --- #\n",
        "##########################################\n",
        "def agente_buscador(topico, data_de_hoje):\n",
        "    buscador = Agent(\n",
        "        name=\"agente_buscador\",\n",
        "        model=\"gemini-2.0-flash\",\n",
        "        description=\"Agente que busca informação no google\",\n",
        "        tools=[google_search],\n",
        "        instruction=\"\"\"\n",
        "       Função: Agente especializado em buscar e coletar dados e informações\n",
        "       relevantes em (Google Search).Fornecer pesquisa detalhados\n",
        "       e relevantes para o planejamento e organização de conteúdo.\n",
        "       Identificar e extrair informações chave, dados, tendências e exemplos.\n",
        "       Summarizar os achados de forma clara e concisa.\n",
        "        \"\"\"\n",
        "    )\n",
        "    entrada_do_agente_buscador = f\"Tópico: {topico}\\Data de hoje: {data_de_hoje}\"\n",
        "    # Executa o agente\n",
        "    resposta_do_agente_buscador = call_agent(buscador, entrada_do_agente_buscador)\n",
        "    return resposta_do_agente_buscador"
      ],
      "metadata": {
        "id": "o8bqIfi_DyH8"
      },
      "execution_count": null,
      "outputs": []
    },
    {
      "cell_type": "code",
      "source": [
        "################################################\n",
        "# --- Agente 2: Planejador de posts --- #\n",
        "################################################\n",
        "def agente_planejador(topico, lancamentos_buscados):\n",
        "    planejador = Agent(\n",
        "        name=\"agente_planejador\",\n",
        "        model=\"gemini-1.5-flash\",\n",
        "        instruction=\"\"\"\n",
        "        Função: Agente especializado em estruturar e organizar informações para\n",
        "        criar planos de conteúdo detalhados e acionáveis para um post.\n",
        "        Baseado no Tópico e nos dados de Lançamentos buscados, crie um plano\n",
        "        de conteúdo organizado em SEÇÕES ENUMERADAS em Markdown.\n",
        "\n",
        "        Exemplo de formato desejado:\n",
        "        1. Título da Primeira Seção (ex: Introdução)\n",
        "        2. Título da Segunda Seção (ex: Detalhes do Assunto A)\n",
        "        3. Título da Terceira Seção (ex: Aspectos Relevantes do Assunto B)\n",
        "        4. Conclusão\n",
        "\n",
        "        Certifique-se de que cada ponto numerado é um título de seção claro e conciso.\n",
        "        Acrescentar mais SEÇÕES ENUMERADAS caso seja necessario para melhor organização.\n",
        "        Use os dados de 'Lançamentos buscados' para informar o conteúdo de cada seção no plano.\n",
        "        O plano deve ser uma lista numerada que delineia a estrutura completa do post.\n",
        "        \"\"\",\n",
        "        description=\"Planejador de conteúdo\",\n",
        "    )\n",
        "\n",
        "    entrada_do_agente_planejador = f\"Tópico:{topico}\\nLançamentos buscados: {lancamentos_buscados}\"\n",
        "    # Executa o agente\n",
        "    plano_do_post = call_agent(planejador, entrada_do_agente_planejador)\n",
        "    return plano_do_post"
      ],
      "metadata": {
        "id": "y3VO1uo5_ghO"
      },
      "execution_count": null,
      "outputs": []
    },
    {
      "cell_type": "code",
      "source": [
        "######################################\n",
        "# --- Agente 3: Redator do Post --- #\n",
        "######################################\n",
        "# Modificado para apenas criar e retornar o objeto Agent\n",
        "def agente_redator():\n",
        "    redator = Agent(\n",
        "        name=\"agente_redator\",\n",
        "        model=\"gemini-1.5-flash\",\n",
        "        instruction=\"\"\"\n",
        "        VOCÊ é o Agente Redator de Conteúdo, um redator criativo, meticuloso,técnico\n",
        "        especializado..\n",
        "        Sua tarefa é escrever UMA ÚNICA SEÇÃO do rascunho do post, conforme especificado.\n",
        "        Use o Plano de Conteúdo fornecido para entender o contexto geral.\n",
        "        Escreva apenas a seção indicada no prompt. Não escreva o post inteiro.\n",
        "        Analisar o Plano de Conteúdo para entender a estrutura.\n",
        "        Incorporar os Pontos Mais Relevantes/Dados no rascunho para esta seção.\n",
        "        Manter um tom de um especialista e tecnico da área.\n",
        "        \"\"\",\n",
        "        description=\"Agente redator\"\n",
        "    )\n",
        "    # Removido o passo de call_agent aqui\n",
        "    return redator"
      ],
      "metadata": {
        "id": "uOqlg2TRLVh1"
      },
      "execution_count": null,
      "outputs": []
    },
    {
      "cell_type": "code",
      "source": [
        "##########################################\n",
        "# --- Agente 4: Revisor de Qualidade --- #\n",
        "##########################################\n",
        "# Modificado para apenas criar e retornar o objeto Agent\n",
        "def agente_revisor():\n",
        "    revisor = Agent(\n",
        "        name=\"agente_revisor\",\n",
        "        model=\"gemini-1.5-flash\",\n",
        "        instruction=\"\"\"\n",
        "        Você é um Editor e Revisor de Conteúdo meticuloso, especializado e técnico.\n",
        "        Use um tom de escrita tecnica e de um profissional especialista no assunto.\n",
        "        Comparar o Rascunho (do Agente 3) com o Plano Original (do Agente 2).\n",
        "        Revise o rascunho de post abaixo sobre o tópico indicado, verificando clareza, concisão, correção e tom.\n",
        "        Se o rascunho estiver bom, responda apenas 'O rascunho está ótimo e pronto!'.\n",
        "        Caso haja problemas, aponte-os e sugira melhorias.\n",
        "        \"\"\",\n",
        "        description=\"Agente revisor\"\n",
        "    )\n",
        "    # Removido o passo de call_agent aqui\n",
        "    return revisor"
      ],
      "metadata": {
        "id": "_aTb1SdkLeT6"
      },
      "execution_count": null,
      "outputs": []
    },
    {
      "cell_type": "code",
      "source": [
        "# Esta é uma célula de código protótipo para demonstrar a lógica.\n",
        "# Ela substitui a última célula do seu código original.\n",
        "# Certifique-se de ter as funções agente_buscador, agente_planejador,\n",
        "# as novas versões de agente_redator e agente_revisor (que retornam apenas o Agent),\n",
        "# call_agent, to_markdown\n",
        "# e as configurações da API (client, MODEL_ID) prontas em células anteriores.\n",
        "\n",
        "from datetime import date\n",
        "import re # Vamos precisar de regex para extrair as seções do plano\n",
        "from IPython.display import display, Markdown\n",
        "\n",
        "# --- Funções Auxiliares (adapte conforme o formato exato do seu plano) ---\n",
        "# Esta função tenta extrair títulos de seção de um texto de plano formatado.\n",
        "# Você pode precisar ajustar esta função dependendo de como o agente_planejador\n",
        "# formata o plano de post. Idealmente, instrua o agente_planejador a usar\n",
        "# um formato consistente (por exemplo, lista numerada ou títulos H2 em markdown).\n",
        "def extrair_secoes_do_plano(texto_plano: str) -> list[str]:\n",
        "    secoes = []\n",
        "    # Tenta encontrar títulos de seção comuns ou itens de lista numerada\n",
        "    # Ex: ## Introdução, 1. Introdução, - Introdução\n",
        "    padroes_secao = [\n",
        "        r'^\\s*##\\s*(.+)',  # Títulos H2 em Markdown\n",
        "        r'^\\s*\\d+\\.\\s*(.+)', # Listas numeradas (e.g., \"1. Introdução\")\n",
        "        r'^\\s*-\\s*(.+)'     # Itens de lista com hífen (e.g., \"- Introdução\")\n",
        "    ]\n",
        "\n",
        "    # Divide o plano em linhas para facilitar a busca\n",
        "    linhas = texto_plano.splitlines()\n",
        "\n",
        "    for linha in linhas:\n",
        "        for padrao in padroes_secao:\n",
        "            match = re.match(padrao, linha.strip())\n",
        "            if match:\n",
        "                secao_titulo = match.group(1).strip()\n",
        "                # Evita adicionar linhas vazias ou que não são títulos reais\n",
        "                if secao_titulo and len(secao_titulo) > 3: # Filtro básico por tamanho\n",
        "                    secoes.append(secao_titulo)\n",
        "                break # Passa para a próxima linha se encontrou uma seção\n",
        "\n",
        "    # Se nenhuma seção foi encontrada usando padrões comuns,\n",
        "    # talvez o plano seja um bloco de texto simples.\n",
        "    # Neste caso, pode ser difícil dividir automaticamente.\n",
        "    # Uma alternativa seria gerar o texto como um todo (se couber no limite)\n",
        "    # ou pedir ao usuário para identificar as seções.\n",
        "    # Para este protótipo, vamos retornar uma seção única se nada for encontrado.\n",
        "    if not secoes and texto_plano.strip():\n",
        "         # Cria uma seção padrão se não conseguiu parsear nada\n",
        "         return [\"Conteúdo Principal\"]\n",
        "    elif not secoes and not texto_plano.strip():\n",
        "        return [] # Retorna lista vazia se o plano estiver vazio\n",
        "\n",
        "    return secoes\n",
        "\n",
        "# --- Lógica Principal de Orquestração ---\n",
        "\n",
        "data_de_hoje = date.today().strftime(\"%d/%m/%Y\")\n",
        "\n",
        "print(\"🚀 Iniciando o Sistema de planejamento de conteúdo com 4 Agentes 🚀\")\n",
        "\n",
        "# --- Obter o Tópico do Usuário ---\n",
        "topico = input(\"❓ Por favor, digite o TÓPICO sobre o qual você quer criar o conteúdo: \")\n",
        "\n",
        "if not topico:\n",
        "  print(\"Por favor, insira um tópico válido.\")\n",
        "else:\n",
        "  print(f\"Maravilha! Vamos criar o conteúdo sobre {topico}\")\n",
        "\n",
        "  # --- Etapa 1: Agente Buscador ---\n",
        "  # Aqui agente_buscador é chamado para *executar* a busca e retornar o resultado\n",
        "  lançamentos_buscados = agente_buscador(topico, data_de_hoje)\n",
        "  print(\"\\n---   Resultado do Agente 1 (Buscador) ----\\n\")\n",
        "  display(to_markdown(lançamentos_buscados))\n",
        "  print(\"-------------------------------\")\n",
        "\n",
        "  # --- Etapa 2: Agente Planejador ---\n",
        "  # Aqui agente_planejador é chamado para *executar* o planejamento e retornar o resultado\n",
        "  plano_de_post = agente_planejador(topico, lançamentos_buscados)\n",
        "  print(\"\\n---   Resultado do Agente 2 (Planejador) ----\\n\")\n",
        "  display(to_markdown(plano_de_post))\n",
        "  print(\"-------------------------------\") # Separador após exibir o plano\n",
        "\n",
        "  # --- Etapa 3: Agente Redator (Gerando por Seção) ---\n",
        "  print(\"\\n---   Iniciando Geração do Rascunho (por Seção) ----\\n\")\n",
        "\n",
        "  # Chame a nova função para OBTER o objeto Agent Redator configurado (com a nova instrução)\n",
        "  # FAÇA ISSO APENAS UMA VEZ ANTES DO LOOP!\n",
        "  redator_agent_obj = agente_redator() # <--- Obtém o objeto Agent usando a nova função\n",
        "\n",
        "  secoes_do_plano = extrair_secoes_do_plano(plano_de_post)\n",
        "\n",
        "  if not secoes_do_plano:\n",
        "      print(\"Não foi possível extrair seções do plano. Não será possível gerar o rascunho por seção.\")\n",
        "      rascunho_do_post = \"\"\n",
        "  else:\n",
        "      rascunho_do_post_partes = []\n",
        "      for i, secao in enumerate(secoes_do_plano):\n",
        "          print(f\"✏️ Gerando Seção {i+1}/{len(secoes_do_plano)}: {secao}\")\n",
        "\n",
        "          # Prepare a entrada ESPECÍFICA para esta chamada de call_agent...\n",
        "          entrada_para_redator_secao = f\"\"\"\n",
        "          Tópico Geral: {topico}\n",
        "\n",
        "          Plano de Conteúdo Completo:\n",
        "          {plano_de_post}\n",
        "\n",
        "          ---\n",
        "          POR FAVOR, ESCREVA APENAS O CONTEÚDO DA SEÇÃO ESPECÍFICA ABAIXO.\n",
        "          Não inclua o título da seção no início da sua resposta.\n",
        "          Seção a escrever: {secao}\n",
        "\n",
        "          Instruções Adicionais para esta Seção:\n",
        "          (Se houver instruções específicas para esta seção do plano, adicione aqui)\n",
        "          \"\"\"\n",
        "\n",
        "          # Chame call_agent usando o objeto Agent e a entrada específica para a seção\n",
        "          rascunho_da_secao = call_agent(redator_agent_obj, entrada_para_redator_secao) # <--- Use redator_agent_obj e a entrada específica!\n",
        "\n",
        "          # Armazene a parte gerada...\n",
        "          rascunho_do_post_partes.append(f\"## {secao}\\n\\n{rascunho_da_secao}\")\n",
        "\n",
        "          # Opcional: Exibir a seção assim que ela for gerada...\n",
        "          display(to_markdown(f\"--- Seção Gerada: {secao} ---\\n\" + rascunho_da_secao))\n",
        "          print(\"-\" * 30)\n",
        "\n",
        "      rascunho_do_post = \"\\n\\n\".join(rascunho_do_post_partes)\n",
        "\n",
        "      print(\"\\n--- Geração do Rascunho Completa ----\\n\")\n",
        "\n",
        "  # --- Etapa 4: Agente Revisor ---\n",
        "  if rascunho_do_post:\n",
        "      print(\"\\n---   Iniciando Revisão do Rascunho Completo ----\\n\")\n",
        "      # Chame a nova função para OBTER o objeto Agent Revisor configurado\n",
        "      revisor_agent_obj = agente_revisor() # <--- Obtém o objeto Agent usando a nova função\n",
        "      entrada_para_revisor = f\"Tópico: {topico}\\nRascunho: {rascunho_do_post}\"\n",
        "      # Chame call_agent usando o objeto Agent e a entrada específica\n",
        "      post_final = call_agent(revisor_agent_obj, entrada_para_revisor) # <--- Use revisor_agent_obj e a entrada!\n",
        "      print(\"\\n---   Resultado do Agente 4 (Revisor) ----\\n\")\n",
        "      display(to_markdown(post_final))\n",
        "      print(\"-------------------------------\")\n",
        "  else:\n",
        "      print(\"\\nNão foi possível gerar um rascunho para revisão.\")\n",
        "\n",
        "print(\"\\n✅ Sistema de planejamento de conteúdo finalizado ✅\")"
      ],
      "metadata": {
        "colab": {
          "base_uri": "https://localhost:8080/",
          "height": 1000
        },
        "id": "cF9_koJvi6da",
        "outputId": "15155225-3c41-4e7e-a864-05f22eb6b8cc"
      },
      "execution_count": null,
      "outputs": [
        {
          "metadata": {
            "tags": null
          },
          "name": "stdout",
          "output_type": "stream",
          "text": [
            "🚀 Iniciando o Sistema de planejamento de conteúdo com 4 Agentes 🚀\n",
            "Maravilha! Vamos criar o conteúdo sobre Aprender a biologia molecular\n",
            "\n",
            "---   Resultado do Agente 1 (Buscador) ----\n",
            "\n"
          ]
        },
        {
          "data": {
            "text/markdown": "> Para aprender biologia molecular, posso ajudar a encontrar informações relevantes sobre o tema. Para isso, preciso saber quais aspectos da biologia molecular te interessam mais. Por exemplo, você gostaria de saber sobre:\n> \n> *   Os conceitos básicos da biologia molecular?\n> *   As aplicações da biologia molecular na medicina ou na indústria?\n> *   As técnicas utilizadas em biologia molecular, como PCR ou sequenciamento de DNA?\n> *   Livros ou cursos para aprender biologia molecular?\n> \n> Para te ajudar melhor, executei algumas pesquisas sobre o tema:\n> \n> A biologia molecular é o estudo da vida em nível molecular, investigando os processos biológicos nos níveis mais básicos da célula. Ela se dedica ao estudo das relações entre DNA e RNA, síntese de proteínas e as características genéticas transmitidas de geração em geração.\n> \n> **Conceitos-chave:**\n> \n> *   **Dogma central da biologia molecular:** O fluxo de informação genética ocorre na seguinte sequência: DNA → RNA → Proteínas.\n> *   **Replicação, transcrição e tradução do DNA:** Processos fundamentais para entender como a informação genética é copiada, convertida em RNA e traduzida em proteínas.\n> *   **Regulação da expressão gênica:** Como os genes são ligados ou desligados em diferentes condições, permitindo que as células respondam ao ambiente.\n> \n> **Aplicações da biologia molecular:**\n> \n> *   **Medicina:** Terapias genéticas, desenvolvimento de medicamentos, diagnóstico de doenças (incluindo doenças genéticas, infecciosas e câncer) e medicina personalizada.\n> *   **Agricultura:** Melhoramento genético de culturas, produção de alimentos, resistência a pragas e doenças e qualidade nutricional.\n> *   **Biotecnologia:** Engenharia genética, clonagem e estudo de células-tronco.\n> *   **Ciência forense:** Análise de DNA para identificação de indivíduos em investigações criminais.\n> *   **Pecuária:** Determinação da presença de marcadores genéticos de crescimento em rebanhos.\n> \n> **Técnicas da biologia molecular:**\n> \n> *   **Reação em cadeia da polimerase (PCR):** Ampliar cópias do DNA.\n> *   **Eletroforese em gel:** Separar proteínas e filamentos de DNA e RNA.\n> *   **Sequenciamento de DNA:**  Ler todas as sequências de DNA e RNA em uma amostra.\n> *   **CRISPR-Cas9:** Permite a análise e manipulação do material genético.\n> \n> **Livros para aprender biologia molecular:**\n> \n> *   Biologia Molecular da Célula (Alberts)\n> *   Biologia Molecular do Gene\n> *   Biologia Celular e Molecular (Junqueira e Carneiro)\n> *   Princípios de Bioquímica de Lehninger\n> \n> **Cursos online:**\n> \n> *   UP Cursos Grátis\n> *   ESF\n> *   Alison\n> *   Emagister\n> \n> Ao considerar livros, verifique se o conteúdo é adequado ao seu nível de conhecimento e se o livro desperta seu interesse. Para cursos, observe a carga horária, o conteúdo programático e a metodologia de ensino.\n> \n",
            "text/plain": [
              "<IPython.core.display.Markdown object>"
            ]
          },
          "metadata": {},
          "output_type": "display_data"
        },
        {
          "metadata": {
            "tags": null
          },
          "name": "stdout",
          "output_type": "stream",
          "text": [
            "-------------------------------\n",
            "\n",
            "---   Resultado do Agente 2 (Planejador) ----\n",
            "\n"
          ]
        },
        {
          "data": {
            "text/markdown": "> 1. Introdução à Biologia Molecular: Conceitos Fundamentais\n> 2. O Dogma Central da Biologia Molecular: Replicação, Transcrição e Tradução do DNA\n> 3. Regulação da Expressão Gênica: Como as Células Controlam seus Genes\n> 4. Aplicações da Biologia Molecular na Medicina: Diagnóstico, Terapias e Medicina Personalizada\n> 5. Aplicações da Biologia Molecular na Agricultura e Biotecnologia: Melhoria Genética e Engenharia Genética\n> 6. Técnicas Essenciais em Biologia Molecular: PCR, Eletroforese e Sequenciamento de DNA\n> 7. CRISPR-Cas9: Uma Revolução na Edição Genética\n> 8. Recursos para Aprender Biologia Molecular: Livros Recomendados e Cursos Online\n> 9. Como Escolher o Melhor Recurso para o Seu Aprendizado: Considerações sobre Nível, Conteúdo e Metodologia\n> 10. Conclusão: Iniciando sua Jornada no Mundo da Biologia Molecular\n> \n",
            "text/plain": [
              "<IPython.core.display.Markdown object>"
            ]
          },
          "metadata": {},
          "output_type": "display_data"
        },
        {
          "metadata": {
            "tags": null
          },
          "name": "stdout",
          "output_type": "stream",
          "text": [
            "-------------------------------\n",
            "\n",
            "---   Iniciando Geração do Rascunho (por Seção) ----\n",
            "\n",
            "✏️ Gerando Seção 1/10: Introdução à Biologia Molecular: Conceitos Fundamentais\n"
          ]
        },
        {
          "data": {
            "text/markdown": "> --- Seção Gerada: Introdução à Biologia Molecular: Conceitos Fundamentais ---\n> A biologia molecular é o estudo da biologia em nível molecular.  Ela investiga a estrutura e função das grandes moléculas biológicas essenciais à vida, como ácidos nucléicos (DNA e RNA) e proteínas, e como essas moléculas interagem para formar células e organismos.  Compreender os princípios da biologia molecular é fundamental para diversas áreas, desde a medicina e a agricultura até a biotecnologia e a ciência forense.\n> \n> Um conceito fundamental é a **centralidade do DNA**.  A molécula de DNA contém a informação genética que guia todos os processos celulares. Esta informação é transmitida de geração em geração através da replicação do DNA, um processo altamente preciso que garante a fidelidade da informação genética.  No entanto, o DNA não executa diretamente as funções celulares; ele precisa ser \"traduzido\" em proteínas.\n> \n> A **expressão gênica** é o processo pelo qual a informação genética contida no DNA é utilizada para produzir moléculas funcionais, principalmente proteínas.  Ela envolve dois estágios principais: a **transcrição**, onde o DNA é transcrito em RNA mensageiro (mRNA), e a **tradução**, onde o mRNA é traduzido em uma sequência específica de aminoácidos, formando uma proteína.  Este fluxo de informação – DNA → RNA → Proteína – é conhecido como o **dogma central da biologia molecular**.\n> \n> Outro conceito chave é a **estrutura das macromoléculas**. A compreensão da estrutura tridimensional das proteínas, por exemplo, é crucial para entender sua função.  A estrutura de uma proteína é determinada por sua sequência de aminoácidos, que por sua vez é determinada pela sequência de nucleotídeos no gene correspondente.  A estrutura das proteínas influencia suas interações com outras moléculas, impactando processos celulares complexos.\n> \n> Finalmente, a biologia molecular abrange o estudo de como as células regulam a expressão gênica, permitindo que elas respondam a mudanças no ambiente e mantenham a homeostase.  Mecanismos de regulação gênica garantem que os genes sejam expressos no momento e na quantidade corretos, permitindo o funcionamento coordenado da célula.  Estes mecanismos são complexos e envolvem uma interação intrincada de diversas moléculas reguladoras.  A compreensão desses mecanismos é essencial para entender o desenvolvimento, a doença e a evolução.\n> \n",
            "text/plain": [
              "<IPython.core.display.Markdown object>"
            ]
          },
          "metadata": {},
          "output_type": "display_data"
        },
        {
          "metadata": {
            "tags": null
          },
          "name": "stdout",
          "output_type": "stream",
          "text": [
            "------------------------------\n",
            "✏️ Gerando Seção 2/10: O Dogma Central da Biologia Molecular: Replicação, Transcrição e Tradução do DNA\n"
          ]
        },
        {
          "data": {
            "text/markdown": "> --- Seção Gerada: O Dogma Central da Biologia Molecular: Replicação, Transcrição e Tradução do DNA ---\n> O dogma central da biologia molecular descreve o fluxo unidirecional da informação genética: do DNA para o RNA e, em seguida, para as proteínas.  Embora existam exceções, como a transcrição reversa em retrovírus, ele representa o mecanismo fundamental de expressão gênica em organismos vivos.  Vamos analisar cada etapa:\n> \n> **1. Replicação do DNA:** Este processo é essencial para a herança genética, garantindo que a informação genética seja fielmente copiada antes da divisão celular.  Enzimas como a DNA polimerase catalisam a síntese de novas fitas de DNA, utilizando a fita parental como molde.  A alta fidelidade da replicação é mantida por mecanismos de correção de erros que minimizam mutações.  O processo envolve a abertura da dupla hélice, a síntese de novas fitas em direção 5' para 3' e a formação de novas moléculas de DNA idênticas à original.  A replicação é semiconservativa, ou seja, cada nova molécula de DNA contém uma fita parental e uma fita recém-sintetizada.\n> \n> **2. Transcrição do DNA:**  Nesta etapa, a informação genética contida no DNA é transcrita em uma molécula de RNA mensageiro (mRNA). A enzima RNA polimerase liga-se a regiões promotoras do DNA e catalisa a síntese de um mRNA complementar à fita molde de DNA.  Este processo envolve a iniciação, o alongamento e a terminação da transcrição.  Após a transcrição, o mRNA em eucariotos sofre processamento pós-transcricional, incluindo a adição de uma capa 5', poliadenilação na extremidade 3' e splicing (remoção de íntrons e junção de éxons). Este processamento é crucial para a estabilidade e a tradução eficiente do mRNA.\n> \n> **3. Tradução do mRNA:**  A mensagem genética codificada no mRNA é traduzida em uma sequência de aminoácidos que formam uma proteína.  Este processo ocorre nos ribossomos, complexos ribonucleoproteicos presentes no citoplasma.  O mRNA liga-se ao ribossomo, e os códons (tríades de nucleotídeos) são lidos sequencialmente. Cada códon especifica um aminoácido particular, que é trazido ao ribossomo por um RNA transportador (tRNA) específico.  A ligação peptídica entre aminoácidos adjacentes forma a cadeia polipeptídica, que, após o término da tradução, sofre dobramento e modificações pós-traducionais para adquirir sua estrutura e função tridimensional final.\n> \n> \n> A compreensão do dogma central é fundamental para a compreensão de diversos processos biológicos, incluindo o desenvolvimento, o metabolismo e a resposta a estímulos ambientais.  Desvios do dogma central, como a transcrição reversa, demonstram a complexidade e a plasticidade do fluxo da informação genética em sistemas biológicos.\n> \n",
            "text/plain": [
              "<IPython.core.display.Markdown object>"
            ]
          },
          "metadata": {},
          "output_type": "display_data"
        },
        {
          "metadata": {
            "tags": null
          },
          "name": "stdout",
          "output_type": "stream",
          "text": [
            "------------------------------\n",
            "✏️ Gerando Seção 3/10: Regulação da Expressão Gênica: Como as Células Controlam seus Genes\n"
          ]
        },
        {
          "data": {
            "text/markdown": "> --- Seção Gerada: Regulação da Expressão Gênica: Como as Células Controlam seus Genes ---\n> A expressão gênica, processo que transforma a informação genética em proteínas funcionais, não é um evento estático.  As células possuem mecanismos intrincados de regulação que garantem a produção de proteínas apenas quando e onde necessárias, economizando energia e recursos. Essa regulação pode ocorrer em diversos estágios, desde a replicação do DNA até a degradação da proteína final.\n> \n> Um dos principais níveis de controle é a **regulação transcricional**, que afeta a quantidade de RNA mensageiro (mRNA) produzido.  Fatores de transcrição, proteínas que se ligam a sequências específicas de DNA (promotores e amplificadores), desempenham um papel crucial nesse processo.  A ligação desses fatores pode ativar ou reprimir a transcrição, dependendo da sequência alvo e de outras proteínas reguladoras presentes.  A metilação do DNA, um processo que adiciona grupos metil a citosinas, também pode silenciar a expressão gênica, alterando a estrutura da cromatina e impedindo o acesso da maquinaria transcricional.\n> \n> A **regulação pós-transcricional** afeta a estabilidade e a tradução do mRNA.  Processamento do RNA, incluindo splicing alternativo (que produz diferentes isoformas de proteínas a partir de um único gene) e edição do RNA, podem gerar moléculas de mRNA com diferentes destinos e funções.  A interferência por RNA (RNAi), por exemplo, utilizando microRNAs (miRNAs) ou siRNAs, pode degradar o mRNA ou inibir sua tradução. A vida-média do mRNA também é um fator determinante: mRNAs com meia-vida curta contribuem para uma resposta rápida a estímulos externos, enquanto mRNAs estáveis garantem a produção contínua de proteínas essenciais.\n> \n> A **regulação traduccional** regula a eficiência com que o mRNA é traduzido em proteína.  A disponibilidade de ribossomos, fatores de iniciação e elongação da tradução, assim como a estrutura secundária do mRNA, influenciam a taxa de síntese proteica.  Modificações pós-traducionais, como a fosforilação, glicosilação e ubiquitinação,  afetam a atividade, localização e estabilidade das proteínas já sintetizadas.\n> \n> A integração desses múltiplos níveis de regulação permite respostas celulares complexas e adaptadas a diferentes condições ambientais e fisiológicas.  Descompreender esses mecanismos é crucial para a compreensão da biologia celular e para o desenvolvimento de terapias direcionadas para doenças relacionadas a erros na regulação gênica, como o câncer e distúrbios metabólicos.  A regulação gênica é um campo dinâmico e em constante desenvolvimento, com novas descobertas revelando a complexidade e a sofisticação desses processos.\n> \n",
            "text/plain": [
              "<IPython.core.display.Markdown object>"
            ]
          },
          "metadata": {},
          "output_type": "display_data"
        },
        {
          "metadata": {
            "tags": null
          },
          "name": "stdout",
          "output_type": "stream",
          "text": [
            "------------------------------\n",
            "✏️ Gerando Seção 4/10: Aplicações da Biologia Molecular na Medicina: Diagnóstico, Terapias e Medicina Personalizada\n"
          ]
        },
        {
          "data": {
            "text/markdown": "> --- Seção Gerada: Aplicações da Biologia Molecular na Medicina: Diagnóstico, Terapias e Medicina Personalizada ---\n> A biologia molecular revolucionou a medicina, impactando significativamente o diagnóstico, as terapias e a personalização do tratamento.  No diagnóstico, técnicas como a PCR (reação em cadeia da polimerase) permitem a detecção rápida e precisa de patógenos, como vírus e bactérias, diretamente a partir de amostras de pacientes, eliminando a necessidade de cultura celular e acelerando o processo de diagnóstico.  A análise de sequenciamento de DNA, cada vez mais acessível e eficiente, permite a identificação de mutações genéticas associadas a doenças hereditárias, como a fibrose cística e a distrofia muscular, possibilitando o diagnóstico precoce e o aconselhamento genético.  Além disso, a análise de expressão gênica, através de técnicas como microarrays e RNAseq, permite a identificação de biomarcadores que indicam a presença e o estágio de desenvolvimento de diversas doenças, incluindo o câncer.\n> \n> Em termos terapêuticos, a biologia molecular possibilitou o desenvolvimento de novas abordagens para o tratamento de doenças.  A terapia gênica, por exemplo, visa corrigir defeitos genéticos através da inserção de genes funcionais nas células do paciente.  Embora ainda em desenvolvimento, esta terapia mostra promessas para o tratamento de doenças como a hemofilia e a imunodeficiência combinada grave.  Outro avanço significativo é o desenvolvimento de medicamentos direcionados, que atuam especificamente em alvos moleculares relacionados à doença, minimizando os efeitos colaterais.  Este princípio é amplamente utilizado no tratamento do câncer, com a utilização de inibidores de tirosina quinase, que bloqueiam a atividade de proteínas específicas envolvidas no crescimento e proliferação celular tumoral.\n> \n> A medicina personalizada, também conhecida como medicina de precisão, é um campo emergente que utiliza informações genéticas e moleculares do paciente para individualizar o tratamento. Através da análise do genoma do paciente, é possível identificar mutações que influenciam a resposta a determinados medicamentos, permitindo a seleção de terapias mais eficazes e a minimização de efeitos adversos.  A farmacogenômica, que estuda a influência dos genes na resposta a fármacos, é um componente essencial da medicina personalizada, permitindo a otimização da terapia para cada indivíduo.  A análise de perfis de expressão gênica também permite monitorar a resposta ao tratamento e ajustar a estratégia terapêutica conforme necessário, contribuindo para uma maior eficácia e melhor prognóstico para o paciente.  A integração de dados genômicos, moleculares e clínicos é fundamental para o desenvolvimento pleno desta área.\n> \n",
            "text/plain": [
              "<IPython.core.display.Markdown object>"
            ]
          },
          "metadata": {},
          "output_type": "display_data"
        },
        {
          "metadata": {
            "tags": null
          },
          "name": "stdout",
          "output_type": "stream",
          "text": [
            "------------------------------\n",
            "✏️ Gerando Seção 5/10: Aplicações da Biologia Molecular na Agricultura e Biotecnologia: Melhoria Genética e Engenharia Genética\n"
          ]
        },
        {
          "data": {
            "text/markdown": "> --- Seção Gerada: Aplicações da Biologia Molecular na Agricultura e Biotecnologia: Melhoria Genética e Engenharia Genética ---\n> A biologia molecular revolucionou a agricultura e a biotecnologia, oferecendo ferramentas poderosas para melhorar culturas e desenvolver novas estratégias de produção.  A melhoria genética, tradicionalmente realizada por meio de cruzamentos seletivos, foi drasticamente acelerada e aprimorada com o advento de técnicas moleculares.  A identificação e manipulação de genes específicos permitem a seleção de variedades com características desejáveis, como maior rendimento, resistência a pragas e doenças, tolerância a estresses abióticos (seca, salinidade, etc.) e melhor qualidade nutricional.\n> \n> A engenharia genética, por sua vez, permite a introdução de genes de outras espécies em plantas, um processo conhecido como transgenia.  Essa tecnologia possibilita a criação de plantas com características completamente novas, como a produção de inseticidas (Bt crops), tolerância a herbicidas e resistência a vírus.  A resistência a pragas, por exemplo, reduz a necessidade de pesticidas, minimizando o impacto ambiental e os custos de produção.  Da mesma forma, a tolerância a herbicidas permite o uso de práticas de controle de ervas daninhas mais eficazes e ambientalmente sustentáveis.\n> \n> No entanto, a aplicação dessas tecnologias exige uma abordagem cuidadosa e ética.  A discussão sobre a segurança alimentar e ambiental dos organismos geneticamente modificados (OGMs) permanece em pauta, requerendo avaliação rigorosa de potenciais riscos ecológicos e à saúde humana.  A transparência na rotulagem de alimentos derivados de OGMs e a regulamentação adequada são cruciais para garantir a segurança e a aceitação pública dessas tecnologias.\n> \n> Além da transgenia, outras técnicas de biologia molecular, como a edição gênica com CRISPR-Cas9, estão sendo exploradas na agricultura.  A precisão da CRISPR permite a modificação de genes específicos com menor risco de efeitos colaterais indesejáveis, abrindo caminho para o desenvolvimento de culturas com características melhoradas de forma mais eficiente e precisa.  O futuro da agricultura e da biotecnologia reside na integração dessas tecnologias, aliadas à compreensão aprofundada da genética e da fisiologia das plantas, para a criação de sistemas agrícolas sustentáveis e produtivos.  Desafios relacionados à biosegurança, à regulamentação e à aceitação social continuam a ser cruciais para o avanço ético e responsável dessas inovações.\n> \n",
            "text/plain": [
              "<IPython.core.display.Markdown object>"
            ]
          },
          "metadata": {},
          "output_type": "display_data"
        },
        {
          "metadata": {
            "tags": null
          },
          "name": "stdout",
          "output_type": "stream",
          "text": [
            "------------------------------\n",
            "✏️ Gerando Seção 6/10: Técnicas Essenciais em Biologia Molecular: PCR, Eletroforese e Sequenciamento de DNA\n"
          ]
        },
        {
          "output_type": "display_data",
          "data": {
            "text/plain": [
              "<IPython.core.display.Markdown object>"
            ],
            "text/markdown": "> --- Seção Gerada: Técnicas Essenciais em Biologia Molecular: PCR, Eletroforese e Sequenciamento de DNA ---\n> A biologia molecular moderna se apoia em um conjunto robusto de técnicas laboratoriais para manipular e analisar material genético.  Entre as mais essenciais, destacam-se a PCR (Reação em Cadeia da Polimerase), a eletroforese e o sequenciamento de DNA.  Compreender seus princípios e aplicações é fundamental para qualquer estudante ou profissional da área.\n> \n> A PCR é uma técnica revolucionária que permite a amplificação exponencial de sequências específicas de DNA *in vitro*. Através de ciclos repetidos de desnaturação, anelamento e extensão, usando uma DNA polimerase termoestável (como a Taq polimerase), é possível obter milhões de cópias de uma região alvo a partir de uma quantidade mínima de DNA molde.  Suas aplicações são vastas, incluindo diagnóstico de doenças infecciosas, testes de paternidade, estudos de expressão gênica e clonagem de genes.  A otimização da PCR, com a escolha adequada de primers, temperatura de anelamento e concentração de reagentes, é crucial para o sucesso da técnica.  Variantes como a RT-PCR (transcrição reversa-PCR), que permite amplificar RNA, e a qPCR (PCR quantitativa), que quantifica a quantidade de DNA amplificado em tempo real, expandem ainda mais as possibilidades da técnica.\n> \n> A eletroforese, por sua vez, é uma técnica de separação de moléculas com base em sua carga e tamanho.  Na eletroforese em gel de agarose, fragmentos de DNA são separados em um gel de agarose sob a influência de um campo elétrico.  Fragmentos menores migram mais rapidamente pelo gel do que fragmentos maiores, permitindo a visualização e análise do tamanho dos fragmentos de DNA.  Essa técnica é essencial para a análise de produtos de PCR, digestão enzimática de DNA e a separação de proteínas.  A eletroforese capilar, uma técnica mais sofisticada, permite maior resolução e automação.\n> \n> Por fim, o sequenciamento de DNA refere-se ao processo de determinação da ordem precisa dos nucleotídeos (adenina, guanina, citosina e timina) em uma molécula de DNA.  Existem diversas abordagens para o sequenciamento, desde métodos tradicionais como o sequenciamento de Sanger até as tecnologias de sequenciamento de nova geração (NGS), que permitem o sequenciamento de milhões ou bilhões de sequências em paralelo, a um custo significativamente menor e tempo de processamento reduzido.  As tecnologias NGS têm revolucionado diversos campos da biologia, permitindo o sequenciamento de genomas completos, estudos de metagenômica, análise de transcriptomas e identificação de variantes genéticas associadas a doenças. A escolha da técnica de sequenciamento dependerá do tamanho do fragmento de DNA a ser sequenciado, da quantidade de DNA disponível, do orçamento e das informações que se pretende obter.\n> \n> Em resumo, a PCR, a eletroforese e o sequenciamento de DNA são técnicas interdependentes e essenciais para a pesquisa e aplicações em biologia molecular, fornecendo ferramentas poderosas para a análise e manipulação do material genético.  A compreensão de seus fundamentos e aplicações é crucial para a interpretação de resultados experimentais e o desenvolvimento de novas abordagens em diversas áreas.\n> \n"
          },
          "metadata": {}
        },
        {
          "output_type": "stream",
          "name": "stdout",
          "text": [
            "------------------------------\n",
            "✏️ Gerando Seção 7/10: CRISPR-Cas9: Uma Revolução na Edição Genética\n"
          ]
        },
        {
          "output_type": "display_data",
          "data": {
            "text/plain": [
              "<IPython.core.display.Markdown object>"
            ],
            "text/markdown": "> --- Seção Gerada: CRISPR-Cas9: Uma Revolução na Edição Genética ---\n> A tecnologia CRISPR-Cas9 representa um avanço revolucionário na edição genética, permitindo a modificação precisa e eficiente do genoma de diversas espécies.  Baseada em um sistema imunológico adaptativo presente em bactérias, o CRISPR-Cas9 utiliza uma enzima Cas9 guiada por uma molécula de RNA guia (RNAg) para clivar o DNA em um local específico. Essa sequência-alvo é complementar ao RNAg, garantindo a precisão da edição.\n> \n> Após a clivagem, a célula utiliza mecanismos de reparo de DNA para reparar a quebra de fita dupla.  Existem dois principais mecanismos: a junção de extremidades não homólogas (NHEJ), que resulta frequentemente em pequenas inserções ou deleções (indels), levando à interrupção da função do gene; e a reparação direcionada por homologia (HDR), que permite a introdução de sequências de DNA exógenas, permitindo a substituição precisa de genes ou a inserção de novas sequências.\n> \n> A simplicidade, eficiência e baixo custo do sistema CRISPR-Cas9 o tornaram uma ferramenta amplamente utilizada em diversas áreas de pesquisa e desenvolvimento.  Suas aplicações incluem:\n> \n> * **Modelagem de doenças:** A criação de modelos animais e celulares de doenças humanas para o estudo de mecanismos patológicos e o desenvolvimento de terapias.\n> * **Terapia genética:** A correção de mutações genéticas causadoras de doenças, oferecendo potenciais tratamentos para distúrbios genéticos hereditários.\n> * **Engenharia genética de plantas e animais:** O melhoramento genético de culturas agrícolas para aumentar a produtividade, resistência a pragas e tolerância a estresses ambientais.  Em animais, pode ser utilizado para melhorar a produção de carne, leite e ovos.\n> * **Biotecnologia:** A produção de proteínas recombinantes e outras moléculas de interesse biotecnológico com alta eficiência.\n> \n> \n> Apesar de seu enorme potencial, o CRISPR-Cas9 apresenta desafios e limitações.  A possibilidade de edições fora do alvo (\"off-targets\"), a eficiência variável de edição em diferentes células e tecidos, e as questões éticas relacionadas ao uso da tecnologia em humanos requerem uma abordagem cautelosa e responsável.  Pesquisas contínuas focam em melhorar a especificidade, eficácia e segurança do sistema CRISPR-Cas9, expandindo ainda mais suas aplicações e minimizando seus potenciais riscos.  A compreensão profunda dos mecanismos moleculares e das limitações da técnica é crucial para o seu uso seguro e eficaz.\n> \n"
          },
          "metadata": {}
        },
        {
          "output_type": "stream",
          "name": "stdout",
          "text": [
            "------------------------------\n",
            "✏️ Gerando Seção 8/10: Recursos para Aprender Biologia Molecular: Livros Recomendados e Cursos Online\n"
          ]
        },
        {
          "output_type": "display_data",
          "data": {
            "text/plain": [
              "<IPython.core.display.Markdown object>"
            ],
            "text/markdown": "> --- Seção Gerada: Recursos para Aprender Biologia Molecular: Livros Recomendados e Cursos Online ---\n> Mergulhar no universo da biologia molecular requer acesso a recursos de qualidade.  Felizmente, uma variedade de livros e cursos online oferece caminhos distintos para a aprendizagem, cada um com suas próprias vantagens e desvantagens.  A escolha ideal dependerá do seu nível de conhecimento prévio, objetivos de aprendizado e estilo de estudo.\n> \n> **Livros Recomendados:**\n> \n> Para uma introdução abrangente e acessível,  recomenda-se a busca por livros-texto universitários que abordem os fundamentos da biologia molecular, incluindo a estrutura e função do DNA, RNA e proteínas,  além dos processos de replicação, transcrição e tradução.  Obras clássicas, frequentemente atualizadas em novas edições, oferecem uma base sólida.  Procure por livros com ilustrações claras, exemplos práticos e exercícios de fixação.  Livros mais especializados em áreas como genética molecular, biologia celular ou biotecnologia podem ser acrescentados posteriormente, dependendo dos interesses individuais.\n> \n> Além dos livros-texto, monografias e revisões científicas publicadas em periódicos especializados como *Nature*, *Science* e *Cell*, oferecem informações atualizadas sobre os avanços mais recentes na área.  Entretanto, o acesso a estes materiais pode exigir um maior nível de familiaridade com a terminologia científica e conceitos avançados.\n> \n> **Cursos Online:**\n> \n> A internet disponibiliza uma gama extensa de cursos online, desde plataformas massivas como Coursera, edX e FutureLearn, até plataformas mais específicas focadas em biologia molecular.  Estes cursos variam em nível de dificuldade, abrangência e formato, podendo ser auto-ritmados, estruturados em módulos, ou incluir avaliações e interações com professores e colegas.\n> \n> Na escolha de um curso online, considere:\n> \n> * **Nível de dificuldade:**  Cursos introdutórios são ideais para iniciantes, enquanto cursos avançados exigem um conhecimento prévio sólido.\n> * **Conteúdo programático:** Verifique se o curso abrange os tópicos que lhe interessam, como técnicas específicas, aplicações em determinada área ou aspectos teóricos mais aprofundados.\n> * **Metodologia de ensino:**  Alguns cursos utilizam vídeos aulas, outros textos e materiais complementares, enquanto alguns combinam diferentes abordagens.  Avalie qual formato se adapta melhor ao seu estilo de aprendizagem.\n> * **Avaliação e certificação:**  Se a certificação for importante, verifique se o curso a oferece.\n> * **Custo:** Os cursos online variam em preço, desde opções gratuitas até cursos pagos com preços mais elevados.\n> \n> Independentemente do recurso escolhido, a dedicação, a prática regular e a busca por uma compreensão profunda dos conceitos são fundamentais para o sucesso no aprendizado da biologia molecular.  A combinação de livros-texto com cursos online pode ser uma estratégia eficaz, aproveitando as vantagens de cada formato para maximizar o aprendizado.\n> \n"
          },
          "metadata": {}
        },
        {
          "output_type": "stream",
          "name": "stdout",
          "text": [
            "------------------------------\n",
            "✏️ Gerando Seção 9/10: Como Escolher o Melhor Recurso para o Seu Aprendizado: Considerações sobre Nível, Conteúdo e Metodologia\n"
          ]
        },
        {
          "output_type": "display_data",
          "data": {
            "text/plain": [
              "<IPython.core.display.Markdown object>"
            ],
            "text/markdown": "> --- Seção Gerada: Como Escolher o Melhor Recurso para o Seu Aprendizado: Considerações sobre Nível, Conteúdo e Metodologia ---\n> A escolha do recurso ideal para o aprendizado em biologia molecular depende intrinsecamente do seu nível de conhecimento prévio, objetivos de aprendizado e estilo de aprendizagem.  Não existe uma solução única, e a melhor abordagem envolve uma análise criteriosa de três fatores principais: nível, conteúdo e metodologia.\n> \n> **Nível:**  Avalie honestamente seu conhecimento atual em biologia, química e genética.  Recursos introdutórios, como livros-texto básicos e cursos online com pré-requisitos mínimos, são ideais para iniciantes.  Se você já possui um conhecimento sólido em biologia celular e genética, pode optar por materiais mais avançados, incluindo artigos científicos, livros-texto especializados e cursos de pós-graduação.  Livros com exercícios e problemas práticos são excelentes para consolidar o aprendizado em todos os níveis.\n> \n> **Conteúdo:**  Defina seus objetivos de aprendizado.  Você busca uma visão geral da biologia molecular ou deseja aprofundar-se em áreas específicas, como genética molecular, biologia do desenvolvimento ou bioinformática?  Recursos abrangentes, como livros-texto completos, são ótimos para uma visão ampla, enquanto cursos especializados, artigos científicos e workshops focam em tópicos específicos.  Verifique cuidadosamente a ementa ou sumário do material para assegurar que ele abrange os assuntos de seu interesse.  A atualização do conteúdo também é crucial, considerando a rápida evolução do campo.  Recursos desatualizados podem apresentar informações incorretas ou incompletas.\n> \n> **Metodologia:**  Considere seu estilo de aprendizagem.  Você prefere o aprendizado ativo, com atividades práticas e resolução de problemas, ou prefere um aprendizado mais passivo, como a leitura de livros-texto ou assistir palestras?  Recursos com uma abordagem prática, incluindo laboratórios virtuais, simulações e exercícios interativos, são mais eficazes para aprendizes cinestésicos e ativos.  Para aprendizes mais visuais ou auditivos, vídeos, animações e podcasts podem ser mais benéficos.  A disponibilidade de recursos adicionais, como fóruns de discussão, tutoria e suporte técnico, também pode influenciar sua escolha.  A clareza da linguagem e a organização do material são fundamentais para uma experiência de aprendizado eficaz e agradável.  Recursos com linguagem acessível, gráficos elucidativos e exemplos concretos são preferíveis.  Finalmente, considere a disponibilidade do material, o custo e o tempo necessário para completar o curso ou o estudo.\n> \n"
          },
          "metadata": {}
        },
        {
          "output_type": "stream",
          "name": "stdout",
          "text": [
            "------------------------------\n",
            "✏️ Gerando Seção 10/10: Conclusão: Iniciando sua Jornada no Mundo da Biologia Molecular\n"
          ]
        },
        {
          "output_type": "display_data",
          "data": {
            "text/plain": [
              "<IPython.core.display.Markdown object>"
            ],
            "text/markdown": "> --- Seção Gerada: Conclusão: Iniciando sua Jornada no Mundo da Biologia Molecular ---\n> A biologia molecular é um campo vasto e dinâmico, em constante evolução com descobertas que revolucionam nossa compreensão da vida e abrem portas para aplicações inovadoras em medicina, agricultura e diversas outras áreas.  Este guia ofereceu uma visão geral dos conceitos fundamentais, técnicas essenciais e aplicações práticas dessa ciência fascinante.  Esperamos que tenha fornecido a base necessária para você iniciar sua jornada no mundo da biologia molecular.  Lembre-se de que a aprendizagem contínua é crucial nessa área.  Mantenha-se atualizado com as últimas pesquisas, participe de comunidades científicas online e explore diferentes recursos de aprendizagem para aprofundar seu conhecimento.  O caminho para se tornar proficiente em biologia molecular exige dedicação, perseverança e curiosidade.  Não hesite em buscar mentoria, colaborar com outros estudantes e profissionais, e, acima de tudo, explorar sua paixão pelo assunto.  A jornada pode ser desafiadora, mas as recompensas de contribuir para um campo tão importante e impactante certamente valerão o esforço.  Boa sorte em sua exploração do mundo microscópico da vida!\n> \n"
          },
          "metadata": {}
        },
        {
          "output_type": "stream",
          "name": "stdout",
          "text": [
            "------------------------------\n",
            "\n",
            "--- Geração do Rascunho Completa ----\n",
            "\n",
            "\n",
            "---   Iniciando Revisão do Rascunho Completo ----\n",
            "\n",
            "\n",
            "---   Resultado do Agente 4 (Revisor) ----\n",
            "\n"
          ]
        },
        {
          "output_type": "display_data",
          "data": {
            "text/plain": [
              "<IPython.core.display.Markdown object>"
            ],
            "text/markdown": "> O rascunho está bem escrito e abrangente, cobrindo vários aspectos importantes da biologia molecular.  No entanto, algumas melhorias podem ser implementadas para aumentar a clareza, concisão e impacto.\n> \n> **Sugestões de Melhoria:**\n> \n> * **Estrutura:** A estrutura atual, embora lógica, poderia ser otimizada.  A seção \"Técnicas Essenciais em Biologia Molecular\" poderia ser integrada às seções de aplicação, descrevendo as técnicas *enquanto* discute suas aplicações em cada área (medicina, agricultura, etc.). Isso tornaria a leitura mais fluida e contextualizada.  Por exemplo, a PCR poderia ser mencionada na seção de diagnóstico médico, a eletroforese na seção de análise de genes, etc.\n> \n> * **Repetição:** Há alguma repetição de conceitos. Por exemplo, o dogma central é explicado extensivamente em uma seção separada e depois mencionado brevemente em outras seções.  Considere condensar essa informação, enfatizando-a na seção principal e apenas referenciando brevemente em outras partes.\n> \n> * **Profundidade:** Algumas seções são muito superficiais.  Por exemplo, a seção sobre CRISPR-Cas9 poderia ser expandida para incluir mais detalhes sobre os mecanismos de reparo do DNA (NHEJ e HDR) e as diferentes variações do sistema CRISPR.  Da mesma forma, a seção sobre regulação da expressão gênica poderia se beneficiar de uma discussão mais aprofundada sobre os diferentes mecanismos de regulação, incluindo a regulação epigenética (modificações de histonas).\n> \n> * **Imagens:** A ausência de imagens e diagramas é uma grande omissão.  Diagramas do dogma central, da estrutura do DNA e RNA, de mecanismos de reparo de DNA, e de outras técnicas seriam essenciais para melhorar a compreensão do leitor.\n> \n> * **Concisão:** Algumas frases são longas e complexas.  Quebre frases longas em frases mais curtas e mais fáceis de entender.  Evite o uso excessivo de termos técnicos sem explicação.\n> \n> \n> * **Tom:** O tom é apropriadamente técnico, mas poderia ser ligeiramente mais envolvente.  Incluir exemplos práticos e aplicações concretas em cada seção aumentaria o interesse do leitor.\n> \n> * **Recursos:** A seção sobre recursos para aprender biologia molecular é boa, mas poderia incluir links diretos para alguns cursos online recomendados e livros relevantes.  Listar alguns exemplos específicos de livros, em vez de apenas mencionar \"livros-texto universitários\", aumentaria a utilidade da seção.\n> \n> \n> \n> **Recomendação:**\n> \n> Recomenda-se uma revisão completa do rascunho, implementando as sugestões acima.  A integração das técnicas na discussão de suas aplicações, a redução da repetição, o aumento da profundidade em algumas seções, a inclusão de imagens e a melhoria da concisão e do engajamento do leitor tornariam o post muito mais eficaz.  A adição de links e títulos específicos de livros melhoraria significativamente a seção sobre recursos.\n> \n"
          },
          "metadata": {}
        },
        {
          "output_type": "stream",
          "name": "stdout",
          "text": [
            "-------------------------------\n",
            "\n",
            "✅ Sistema de planejamento de conteúdo finalizado ✅\n"
          ]
        }
      ]
    }
  ]
}